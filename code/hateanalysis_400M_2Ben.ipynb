{
  "nbformat": 4,
  "nbformat_minor": 0,
  "metadata": {
    "colab": {
      "provenance": [],
      "machine_shape": "hm",
      "gpuType": "V100",
      "authorship_tag": "ABX9TyNhPudfYdziK5cqTxEACvd/",
      "include_colab_link": true
    },
    "kernelspec": {
      "name": "python3",
      "display_name": "Python 3"
    },
    "language_info": {
      "name": "python"
    },
    "gpuClass": "premium",
    "accelerator": "GPU",
    "widgets": {
      "application/vnd.jupyter.widget-state+json": {
        "5cb4b23af0b14b19a1e89607512d4b49": {
          "model_module": "@jupyter-widgets/controls",
          "model_name": "HBoxModel",
          "model_module_version": "1.5.0",
          "state": {
            "_dom_classes": [],
            "_model_module": "@jupyter-widgets/controls",
            "_model_module_version": "1.5.0",
            "_model_name": "HBoxModel",
            "_view_count": null,
            "_view_module": "@jupyter-widgets/controls",
            "_view_module_version": "1.5.0",
            "_view_name": "HBoxView",
            "box_style": "",
            "children": [
              "IPY_MODEL_87fb40aac3044373a4d777d369b240f6",
              "IPY_MODEL_158baad2cd9946bd9ff42ac7243370f7",
              "IPY_MODEL_76f1670b3be64f41b25a525f4fbdeda1"
            ],
            "layout": "IPY_MODEL_27ef00e0de7440c2bc1ae9b9cb24a8bf"
          }
        },
        "87fb40aac3044373a4d777d369b240f6": {
          "model_module": "@jupyter-widgets/controls",
          "model_name": "HTMLModel",
          "model_module_version": "1.5.0",
          "state": {
            "_dom_classes": [],
            "_model_module": "@jupyter-widgets/controls",
            "_model_module_version": "1.5.0",
            "_model_name": "HTMLModel",
            "_view_count": null,
            "_view_module": "@jupyter-widgets/controls",
            "_view_module_version": "1.5.0",
            "_view_name": "HTMLView",
            "description": "",
            "description_tooltip": null,
            "layout": "IPY_MODEL_82ffd1cc172c41a69aae284952633a95",
            "placeholder": "​",
            "style": "IPY_MODEL_c9ae49004e3f47ed9725e0120cb0e9a1",
            "value": "100%"
          }
        },
        "158baad2cd9946bd9ff42ac7243370f7": {
          "model_module": "@jupyter-widgets/controls",
          "model_name": "FloatProgressModel",
          "model_module_version": "1.5.0",
          "state": {
            "_dom_classes": [],
            "_model_module": "@jupyter-widgets/controls",
            "_model_module_version": "1.5.0",
            "_model_name": "FloatProgressModel",
            "_view_count": null,
            "_view_module": "@jupyter-widgets/controls",
            "_view_module_version": "1.5.0",
            "_view_name": "ProgressView",
            "bar_style": "success",
            "description": "",
            "description_tooltip": null,
            "layout": "IPY_MODEL_2ca70c49c2de4c2596fb6e908e7650c8",
            "max": 32,
            "min": 0,
            "orientation": "horizontal",
            "style": "IPY_MODEL_4ca3b2b34ce34eeabecca02d04bdcb47",
            "value": 32
          }
        },
        "76f1670b3be64f41b25a525f4fbdeda1": {
          "model_module": "@jupyter-widgets/controls",
          "model_name": "HTMLModel",
          "model_module_version": "1.5.0",
          "state": {
            "_dom_classes": [],
            "_model_module": "@jupyter-widgets/controls",
            "_model_module_version": "1.5.0",
            "_model_name": "HTMLModel",
            "_view_count": null,
            "_view_module": "@jupyter-widgets/controls",
            "_view_module_version": "1.5.0",
            "_view_name": "HTMLView",
            "description": "",
            "description_tooltip": null,
            "layout": "IPY_MODEL_75482c0fd15a42078da3a0a78bd3959b",
            "placeholder": "​",
            "style": "IPY_MODEL_372fbf778bdd4b86bac09be2e002813f",
            "value": " 32/32 [00:00&lt;00:00, 50.04it/s]"
          }
        },
        "27ef00e0de7440c2bc1ae9b9cb24a8bf": {
          "model_module": "@jupyter-widgets/base",
          "model_name": "LayoutModel",
          "model_module_version": "1.2.0",
          "state": {
            "_model_module": "@jupyter-widgets/base",
            "_model_module_version": "1.2.0",
            "_model_name": "LayoutModel",
            "_view_count": null,
            "_view_module": "@jupyter-widgets/base",
            "_view_module_version": "1.2.0",
            "_view_name": "LayoutView",
            "align_content": null,
            "align_items": null,
            "align_self": null,
            "border": null,
            "bottom": null,
            "display": null,
            "flex": null,
            "flex_flow": null,
            "grid_area": null,
            "grid_auto_columns": null,
            "grid_auto_flow": null,
            "grid_auto_rows": null,
            "grid_column": null,
            "grid_gap": null,
            "grid_row": null,
            "grid_template_areas": null,
            "grid_template_columns": null,
            "grid_template_rows": null,
            "height": null,
            "justify_content": null,
            "justify_items": null,
            "left": null,
            "margin": null,
            "max_height": null,
            "max_width": null,
            "min_height": null,
            "min_width": null,
            "object_fit": null,
            "object_position": null,
            "order": null,
            "overflow": null,
            "overflow_x": null,
            "overflow_y": null,
            "padding": null,
            "right": null,
            "top": null,
            "visibility": null,
            "width": null
          }
        },
        "82ffd1cc172c41a69aae284952633a95": {
          "model_module": "@jupyter-widgets/base",
          "model_name": "LayoutModel",
          "model_module_version": "1.2.0",
          "state": {
            "_model_module": "@jupyter-widgets/base",
            "_model_module_version": "1.2.0",
            "_model_name": "LayoutModel",
            "_view_count": null,
            "_view_module": "@jupyter-widgets/base",
            "_view_module_version": "1.2.0",
            "_view_name": "LayoutView",
            "align_content": null,
            "align_items": null,
            "align_self": null,
            "border": null,
            "bottom": null,
            "display": null,
            "flex": null,
            "flex_flow": null,
            "grid_area": null,
            "grid_auto_columns": null,
            "grid_auto_flow": null,
            "grid_auto_rows": null,
            "grid_column": null,
            "grid_gap": null,
            "grid_row": null,
            "grid_template_areas": null,
            "grid_template_columns": null,
            "grid_template_rows": null,
            "height": null,
            "justify_content": null,
            "justify_items": null,
            "left": null,
            "margin": null,
            "max_height": null,
            "max_width": null,
            "min_height": null,
            "min_width": null,
            "object_fit": null,
            "object_position": null,
            "order": null,
            "overflow": null,
            "overflow_x": null,
            "overflow_y": null,
            "padding": null,
            "right": null,
            "top": null,
            "visibility": null,
            "width": null
          }
        },
        "c9ae49004e3f47ed9725e0120cb0e9a1": {
          "model_module": "@jupyter-widgets/controls",
          "model_name": "DescriptionStyleModel",
          "model_module_version": "1.5.0",
          "state": {
            "_model_module": "@jupyter-widgets/controls",
            "_model_module_version": "1.5.0",
            "_model_name": "DescriptionStyleModel",
            "_view_count": null,
            "_view_module": "@jupyter-widgets/base",
            "_view_module_version": "1.2.0",
            "_view_name": "StyleView",
            "description_width": ""
          }
        },
        "2ca70c49c2de4c2596fb6e908e7650c8": {
          "model_module": "@jupyter-widgets/base",
          "model_name": "LayoutModel",
          "model_module_version": "1.2.0",
          "state": {
            "_model_module": "@jupyter-widgets/base",
            "_model_module_version": "1.2.0",
            "_model_name": "LayoutModel",
            "_view_count": null,
            "_view_module": "@jupyter-widgets/base",
            "_view_module_version": "1.2.0",
            "_view_name": "LayoutView",
            "align_content": null,
            "align_items": null,
            "align_self": null,
            "border": null,
            "bottom": null,
            "display": null,
            "flex": null,
            "flex_flow": null,
            "grid_area": null,
            "grid_auto_columns": null,
            "grid_auto_flow": null,
            "grid_auto_rows": null,
            "grid_column": null,
            "grid_gap": null,
            "grid_row": null,
            "grid_template_areas": null,
            "grid_template_columns": null,
            "grid_template_rows": null,
            "height": null,
            "justify_content": null,
            "justify_items": null,
            "left": null,
            "margin": null,
            "max_height": null,
            "max_width": null,
            "min_height": null,
            "min_width": null,
            "object_fit": null,
            "object_position": null,
            "order": null,
            "overflow": null,
            "overflow_x": null,
            "overflow_y": null,
            "padding": null,
            "right": null,
            "top": null,
            "visibility": null,
            "width": null
          }
        },
        "4ca3b2b34ce34eeabecca02d04bdcb47": {
          "model_module": "@jupyter-widgets/controls",
          "model_name": "ProgressStyleModel",
          "model_module_version": "1.5.0",
          "state": {
            "_model_module": "@jupyter-widgets/controls",
            "_model_module_version": "1.5.0",
            "_model_name": "ProgressStyleModel",
            "_view_count": null,
            "_view_module": "@jupyter-widgets/base",
            "_view_module_version": "1.2.0",
            "_view_name": "StyleView",
            "bar_color": null,
            "description_width": ""
          }
        },
        "75482c0fd15a42078da3a0a78bd3959b": {
          "model_module": "@jupyter-widgets/base",
          "model_name": "LayoutModel",
          "model_module_version": "1.2.0",
          "state": {
            "_model_module": "@jupyter-widgets/base",
            "_model_module_version": "1.2.0",
            "_model_name": "LayoutModel",
            "_view_count": null,
            "_view_module": "@jupyter-widgets/base",
            "_view_module_version": "1.2.0",
            "_view_name": "LayoutView",
            "align_content": null,
            "align_items": null,
            "align_self": null,
            "border": null,
            "bottom": null,
            "display": null,
            "flex": null,
            "flex_flow": null,
            "grid_area": null,
            "grid_auto_columns": null,
            "grid_auto_flow": null,
            "grid_auto_rows": null,
            "grid_column": null,
            "grid_gap": null,
            "grid_row": null,
            "grid_template_areas": null,
            "grid_template_columns": null,
            "grid_template_rows": null,
            "height": null,
            "justify_content": null,
            "justify_items": null,
            "left": null,
            "margin": null,
            "max_height": null,
            "max_width": null,
            "min_height": null,
            "min_width": null,
            "object_fit": null,
            "object_position": null,
            "order": null,
            "overflow": null,
            "overflow_x": null,
            "overflow_y": null,
            "padding": null,
            "right": null,
            "top": null,
            "visibility": null,
            "width": null
          }
        },
        "372fbf778bdd4b86bac09be2e002813f": {
          "model_module": "@jupyter-widgets/controls",
          "model_name": "DescriptionStyleModel",
          "model_module_version": "1.5.0",
          "state": {
            "_model_module": "@jupyter-widgets/controls",
            "_model_module_version": "1.5.0",
            "_model_name": "DescriptionStyleModel",
            "_view_count": null,
            "_view_module": "@jupyter-widgets/base",
            "_view_module_version": "1.2.0",
            "_view_name": "StyleView",
            "description_width": ""
          }
        },
        "5c257dc3161d45959045a203d92bc8b8": {
          "model_module": "@jupyter-widgets/controls",
          "model_name": "HBoxModel",
          "model_module_version": "1.5.0",
          "state": {
            "_dom_classes": [],
            "_model_module": "@jupyter-widgets/controls",
            "_model_module_version": "1.5.0",
            "_model_name": "HBoxModel",
            "_view_count": null,
            "_view_module": "@jupyter-widgets/controls",
            "_view_module_version": "1.5.0",
            "_view_name": "HBoxView",
            "box_style": "",
            "children": [
              "IPY_MODEL_830a67e443ee4d21ad6baf89aebffb49",
              "IPY_MODEL_ddd2f62306ef48b6aeccde90f9fb58a8",
              "IPY_MODEL_986066ff1c0c4d2281f8483b51615c2a"
            ],
            "layout": "IPY_MODEL_f69ea7ecdcaf4876abeda741dc9d6673"
          }
        },
        "830a67e443ee4d21ad6baf89aebffb49": {
          "model_module": "@jupyter-widgets/controls",
          "model_name": "HTMLModel",
          "model_module_version": "1.5.0",
          "state": {
            "_dom_classes": [],
            "_model_module": "@jupyter-widgets/controls",
            "_model_module_version": "1.5.0",
            "_model_name": "HTMLModel",
            "_view_count": null,
            "_view_module": "@jupyter-widgets/controls",
            "_view_module_version": "1.5.0",
            "_view_name": "HTMLView",
            "description": "",
            "description_tooltip": null,
            "layout": "IPY_MODEL_8c5d3aeee7de4d1a890cb88e8ded98e3",
            "placeholder": "​",
            "style": "IPY_MODEL_f3c24ab524a2450c8d7a22206ed69880",
            "value": "100%"
          }
        },
        "ddd2f62306ef48b6aeccde90f9fb58a8": {
          "model_module": "@jupyter-widgets/controls",
          "model_name": "FloatProgressModel",
          "model_module_version": "1.5.0",
          "state": {
            "_dom_classes": [],
            "_model_module": "@jupyter-widgets/controls",
            "_model_module_version": "1.5.0",
            "_model_name": "FloatProgressModel",
            "_view_count": null,
            "_view_module": "@jupyter-widgets/controls",
            "_view_module_version": "1.5.0",
            "_view_name": "ProgressView",
            "bar_style": "success",
            "description": "",
            "description_tooltip": null,
            "layout": "IPY_MODEL_36af53213cb74833ae5aa610a251dfcb",
            "max": 128,
            "min": 0,
            "orientation": "horizontal",
            "style": "IPY_MODEL_27f2a4d042454e7bba0bb21d9a53270a",
            "value": 128
          }
        },
        "986066ff1c0c4d2281f8483b51615c2a": {
          "model_module": "@jupyter-widgets/controls",
          "model_name": "HTMLModel",
          "model_module_version": "1.5.0",
          "state": {
            "_dom_classes": [],
            "_model_module": "@jupyter-widgets/controls",
            "_model_module_version": "1.5.0",
            "_model_name": "HTMLModel",
            "_view_count": null,
            "_view_module": "@jupyter-widgets/controls",
            "_view_module_version": "1.5.0",
            "_view_name": "HTMLView",
            "description": "",
            "description_tooltip": null,
            "layout": "IPY_MODEL_b7aaf95b6df64d76833873fffabf4640",
            "placeholder": "​",
            "style": "IPY_MODEL_0c0320bfa34f4696af861fe1b7abbac9",
            "value": " 128/128 [00:03&lt;00:00, 55.10it/s]"
          }
        },
        "f69ea7ecdcaf4876abeda741dc9d6673": {
          "model_module": "@jupyter-widgets/base",
          "model_name": "LayoutModel",
          "model_module_version": "1.2.0",
          "state": {
            "_model_module": "@jupyter-widgets/base",
            "_model_module_version": "1.2.0",
            "_model_name": "LayoutModel",
            "_view_count": null,
            "_view_module": "@jupyter-widgets/base",
            "_view_module_version": "1.2.0",
            "_view_name": "LayoutView",
            "align_content": null,
            "align_items": null,
            "align_self": null,
            "border": null,
            "bottom": null,
            "display": null,
            "flex": null,
            "flex_flow": null,
            "grid_area": null,
            "grid_auto_columns": null,
            "grid_auto_flow": null,
            "grid_auto_rows": null,
            "grid_column": null,
            "grid_gap": null,
            "grid_row": null,
            "grid_template_areas": null,
            "grid_template_columns": null,
            "grid_template_rows": null,
            "height": null,
            "justify_content": null,
            "justify_items": null,
            "left": null,
            "margin": null,
            "max_height": null,
            "max_width": null,
            "min_height": null,
            "min_width": null,
            "object_fit": null,
            "object_position": null,
            "order": null,
            "overflow": null,
            "overflow_x": null,
            "overflow_y": null,
            "padding": null,
            "right": null,
            "top": null,
            "visibility": null,
            "width": null
          }
        },
        "8c5d3aeee7de4d1a890cb88e8ded98e3": {
          "model_module": "@jupyter-widgets/base",
          "model_name": "LayoutModel",
          "model_module_version": "1.2.0",
          "state": {
            "_model_module": "@jupyter-widgets/base",
            "_model_module_version": "1.2.0",
            "_model_name": "LayoutModel",
            "_view_count": null,
            "_view_module": "@jupyter-widgets/base",
            "_view_module_version": "1.2.0",
            "_view_name": "LayoutView",
            "align_content": null,
            "align_items": null,
            "align_self": null,
            "border": null,
            "bottom": null,
            "display": null,
            "flex": null,
            "flex_flow": null,
            "grid_area": null,
            "grid_auto_columns": null,
            "grid_auto_flow": null,
            "grid_auto_rows": null,
            "grid_column": null,
            "grid_gap": null,
            "grid_row": null,
            "grid_template_areas": null,
            "grid_template_columns": null,
            "grid_template_rows": null,
            "height": null,
            "justify_content": null,
            "justify_items": null,
            "left": null,
            "margin": null,
            "max_height": null,
            "max_width": null,
            "min_height": null,
            "min_width": null,
            "object_fit": null,
            "object_position": null,
            "order": null,
            "overflow": null,
            "overflow_x": null,
            "overflow_y": null,
            "padding": null,
            "right": null,
            "top": null,
            "visibility": null,
            "width": null
          }
        },
        "f3c24ab524a2450c8d7a22206ed69880": {
          "model_module": "@jupyter-widgets/controls",
          "model_name": "DescriptionStyleModel",
          "model_module_version": "1.5.0",
          "state": {
            "_model_module": "@jupyter-widgets/controls",
            "_model_module_version": "1.5.0",
            "_model_name": "DescriptionStyleModel",
            "_view_count": null,
            "_view_module": "@jupyter-widgets/base",
            "_view_module_version": "1.2.0",
            "_view_name": "StyleView",
            "description_width": ""
          }
        },
        "36af53213cb74833ae5aa610a251dfcb": {
          "model_module": "@jupyter-widgets/base",
          "model_name": "LayoutModel",
          "model_module_version": "1.2.0",
          "state": {
            "_model_module": "@jupyter-widgets/base",
            "_model_module_version": "1.2.0",
            "_model_name": "LayoutModel",
            "_view_count": null,
            "_view_module": "@jupyter-widgets/base",
            "_view_module_version": "1.2.0",
            "_view_name": "LayoutView",
            "align_content": null,
            "align_items": null,
            "align_self": null,
            "border": null,
            "bottom": null,
            "display": null,
            "flex": null,
            "flex_flow": null,
            "grid_area": null,
            "grid_auto_columns": null,
            "grid_auto_flow": null,
            "grid_auto_rows": null,
            "grid_column": null,
            "grid_gap": null,
            "grid_row": null,
            "grid_template_areas": null,
            "grid_template_columns": null,
            "grid_template_rows": null,
            "height": null,
            "justify_content": null,
            "justify_items": null,
            "left": null,
            "margin": null,
            "max_height": null,
            "max_width": null,
            "min_height": null,
            "min_width": null,
            "object_fit": null,
            "object_position": null,
            "order": null,
            "overflow": null,
            "overflow_x": null,
            "overflow_y": null,
            "padding": null,
            "right": null,
            "top": null,
            "visibility": null,
            "width": null
          }
        },
        "27f2a4d042454e7bba0bb21d9a53270a": {
          "model_module": "@jupyter-widgets/controls",
          "model_name": "ProgressStyleModel",
          "model_module_version": "1.5.0",
          "state": {
            "_model_module": "@jupyter-widgets/controls",
            "_model_module_version": "1.5.0",
            "_model_name": "ProgressStyleModel",
            "_view_count": null,
            "_view_module": "@jupyter-widgets/base",
            "_view_module_version": "1.2.0",
            "_view_name": "StyleView",
            "bar_color": null,
            "description_width": ""
          }
        },
        "b7aaf95b6df64d76833873fffabf4640": {
          "model_module": "@jupyter-widgets/base",
          "model_name": "LayoutModel",
          "model_module_version": "1.2.0",
          "state": {
            "_model_module": "@jupyter-widgets/base",
            "_model_module_version": "1.2.0",
            "_model_name": "LayoutModel",
            "_view_count": null,
            "_view_module": "@jupyter-widgets/base",
            "_view_module_version": "1.2.0",
            "_view_name": "LayoutView",
            "align_content": null,
            "align_items": null,
            "align_self": null,
            "border": null,
            "bottom": null,
            "display": null,
            "flex": null,
            "flex_flow": null,
            "grid_area": null,
            "grid_auto_columns": null,
            "grid_auto_flow": null,
            "grid_auto_rows": null,
            "grid_column": null,
            "grid_gap": null,
            "grid_row": null,
            "grid_template_areas": null,
            "grid_template_columns": null,
            "grid_template_rows": null,
            "height": null,
            "justify_content": null,
            "justify_items": null,
            "left": null,
            "margin": null,
            "max_height": null,
            "max_width": null,
            "min_height": null,
            "min_width": null,
            "object_fit": null,
            "object_position": null,
            "order": null,
            "overflow": null,
            "overflow_x": null,
            "overflow_y": null,
            "padding": null,
            "right": null,
            "top": null,
            "visibility": null,
            "width": null
          }
        },
        "0c0320bfa34f4696af861fe1b7abbac9": {
          "model_module": "@jupyter-widgets/controls",
          "model_name": "DescriptionStyleModel",
          "model_module_version": "1.5.0",
          "state": {
            "_model_module": "@jupyter-widgets/controls",
            "_model_module_version": "1.5.0",
            "_model_name": "DescriptionStyleModel",
            "_view_count": null,
            "_view_module": "@jupyter-widgets/base",
            "_view_module_version": "1.2.0",
            "_view_name": "StyleView",
            "description_width": ""
          }
        }
      }
    }
  },
  "cells": [
    {
      "cell_type": "markdown",
      "metadata": {
        "id": "view-in-github",
        "colab_type": "text"
      },
      "source": [
        "<a href=\"https://colab.research.google.com/github/vinayprabhu/hate_scaling/blob/main/code/hateanalysis_400M_2Ben.ipynb\" target=\"_parent\"><img src=\"https://colab.research.google.com/assets/colab-badge.svg\" alt=\"Open In Colab\"/></a>"
      ]
    },
    {
      "cell_type": "markdown",
      "source": [
        "# GOAL: The goal of this notebook is to:\n",
        "- Subsample 3.1/12.8 million alt-text descriptions from LAION-400M and LAION2B-En datasets\n",
        "- Pass it through [pysentimiento](https://arxiv.org/abs/2106.09462) that outputs a 1x3 vector capturing ```['P_hateful', 'P_targeted', 'P_aggressive']```\n",
        "- A walk-through of all the results and (meta)datasets curated\n",
        "\n",
        "**(TW)**: Some of the alt-text descriptions you may encounter below are misogynistic and downright 🤮"
      ],
      "metadata": {
        "id": "7shuKM4oOsu4"
      }
    },
    {
      "cell_type": "markdown",
      "source": [
        "# 1: Standard imports (This is my customized default first-cell)"
      ],
      "metadata": {
        "id": "7JLfChaQ747e"
      }
    },
    {
      "cell_type": "code",
      "source": [
        "from psutil import virtual_memory\n",
        "# Make sure to run it on a high-memory instance\n",
        "ram_gb = virtual_memory().total / 1e9\n",
        "print('Your runtime has {:.1f} gigabytes of available RAM\\n'.format(ram_gb))\n",
        "\n",
        "import numpy as np\n",
        "import os\n",
        "import pandas as pd\n",
        "import matplotlib.pyplot as plt\n",
        "import pandas as pd\n",
        "from tqdm import tqdm_notebook as tqdm\n",
        "%matplotlib inline\n",
        "\n",
        "from scipy.linalg import block_diag\n",
        "import seaborn as sns\n",
        "# Numpy aesthetics\n",
        "np.set_printoptions(suppress=True)\n",
        "from collections import Counter\n",
        "from IPython.display import set_matplotlib_formats\n",
        "set_matplotlib_formats('retina')\n",
        "\n",
        "import itertools\n",
        "%precision 6\n",
        "#############################################\n",
        "import sys\n",
        "import importlib\n",
        "importlib.reload(sys)\n",
        "#######################\n",
        "from google.colab import drive\n",
        "drive.flush_and_unmount()\n",
        "import os\n",
        "drive.mount('/gdrive', force_remount=True)\n",
        "# Enter your own proj_dir here\n",
        "proj_dir='/gdrive/My Drive/Colab Notebooks/0_laion_dataset/'\n",
        "os.chdir(proj_dir)"
      ],
      "metadata": {
        "colab": {
          "base_uri": "https://localhost:8080/"
        },
        "id": "M1u7E22Uz4pj",
        "outputId": "ac1e4a4b-b4e7-498b-96d2-0ce6918cfcbb"
      },
      "execution_count": null,
      "outputs": [
        {
          "output_type": "stream",
          "name": "stdout",
          "text": [
            "Your runtime has 27.3 gigabytes of available RAM\n",
            "\n"
          ]
        },
        {
          "output_type": "stream",
          "name": "stderr",
          "text": [
            "<ipython-input-1-1f23c3cc2486>:20: DeprecationWarning: `set_matplotlib_formats` is deprecated since IPython 7.23, directly use `matplotlib_inline.backend_inline.set_matplotlib_formats()`\n",
            "  set_matplotlib_formats('retina')\n"
          ]
        },
        {
          "output_type": "stream",
          "name": "stdout",
          "text": [
            "Mounted at /gdrive\n"
          ]
        }
      ]
    },
    {
      "cell_type": "markdown",
      "metadata": {
        "id": "Fd5ofBKRRN02"
      },
      "source": [
        "# Download the LAION datasets\n",
        "\n",
        "Source: https://laion.ai/laion-400-open-dataset/\n",
        "\n",
        "\n",
        "*We produced the dataset in several formats to address the various use cases*: \n",
        "- A 50GB url+caption metadata dataset in parquet files. This can be used to compute statistics and redownload part of the dataset\n",
        "- A 10TB webdataset with 256×256 images, captions and metadata. This is a full version of the dataset, that can be used directly for training\n",
        "- A 1TB set of the 400M text and image clip embeddings, useful to rebuild new knn indices\n",
        "- Two 4GB knn indices allowing to easily search in the dataset + two higher quality 16GB knn indices (running in the webdemo)\n",
        "URL and caption metadata dataset.\n",
        "\n",
        "We provide 32 parquet files of size around 1GB (total 50GB) with the image URLs, the associated texts and additional metadata in the following format:\n",
        "\n",
        "SAMPLE_ID | URL | TEXT | LICENSE | NSFW | similarity | WIDTH | HEIGHT\n",
        "\n",
        "where\n",
        "\n",
        "- SAMPLE_ID:   A unique identifier\n",
        "LICENSE:   If a Creative Commons License could be extracted from the image data, we name it here like e.g. “creativecommons.org/licenses/by-nc-sa/3.0/” – otherwise you’ll find it here a “?”\n",
        "- NSFW: CLIP had been used to estimate if the image has NSFW content. The estimation has been pretty conservative, reducing the number of false negatives at the cost of more false positives. Possible values are “UNLIKELY”, “UNSURE” and “NSFW”\n",
        "- similarity: Value of the cosine similarity between the text and image embedding\n",
        "- WIDTH and HEIGHT: image size as the image was embedded. Originals that were larger than 4K size were resized to 4K\n",
        "\n",
        "*This metadata dataset is best used to redownload the whole dataset or a subset of it. The img2dataset tool can be used to efficiently download such subsets*.\n",
        "\n",
        "Source of the parquet files:\n",
        "https://the-eye.eu/public/AI/cah/laion400m-met-release/laion400m-meta/\n",
        "\n",
        "\n",
        "```\n",
        "!wget http://3080.rom1504.fr/cah/cah_dataframe_unique/part-00000-4d76554c-2d66-4112-9420-0bb9d725a79d-c000.snappy.parquet\n",
        "!wget https://the-eye.eu/public/AI/cah/laion400m-met-release/laion400m-meta/part-00000-5b54c5d5-bbcf-484d-a2ce-0d6f73df1a36-c000.snappy.parquet\n",
        "!wget -m -np -c -U \"eye02\" -w 2 -R \"index.html*\" \"https://the-eye.eu/public/AI/cah/laion400m-met-release/laion400m-meta/\"\n",
        "\n",
        "# LAION-2B-En\n",
        "!git lfs install\n",
        "!git clone https://huggingface.co/datasets/laion/laion2B-en\n",
        "```\n",
        "\n"
      ]
    },
    {
      "cell_type": "markdown",
      "source": [
        "## Now, let us take a look at the individual parquet files constituting these datasets:"
      ],
      "metadata": {
        "id": "5Di9X0JW2sW3"
      }
    },
    {
      "cell_type": "markdown",
      "source": [
        "- LAION-400M is split into 32 parquet files\n",
        "- LAION-2B-En has 128 parquet files"
      ],
      "metadata": {
        "id": "YZVYacYd8OeC"
      }
    },
    {
      "cell_type": "code",
      "source": [
        "# parquet_list=[]\n",
        "# import os\n",
        "# for root, dirs, files in os.walk(os.getcwd()):\n",
        "#     for file in files:\n",
        "#         if file.endswith(\".snappy.parquet\"):\n",
        "#              parquet_list.append(os.path.join(root, file))\n",
        "# len(parquet_list)\n",
        "# This list has been saved in a nice readable dataframe that you can simply load:\n",
        "data_dir='/gdrive/My Drive/Colab Notebooks/0_laion_dataset' # This will vary based on your env\n",
        "df_parquet=pd.read_csv('df_400m_2b_parquet.csv')\n",
        "df_parquet"
      ],
      "metadata": {
        "colab": {
          "base_uri": "https://localhost:8080/",
          "height": 424
        },
        "id": "YQaTMxNy0RK8",
        "outputId": "d72f6f21-2e19-42b1-c2d8-61185431598a"
      },
      "execution_count": null,
      "outputs": [
        {
          "output_type": "execute_result",
          "data": {
            "text/plain": [
              "    dataset file_id  file_size_GB  \\\n",
              "0      400m  400m_0        1.6794   \n",
              "1      400m  400m_1        1.6800   \n",
              "2      400m  400m_2        1.6792   \n",
              "3      400m  400m_3        1.6797   \n",
              "4      400m  400m_4        1.6797   \n",
              "..      ...     ...           ...   \n",
              "155      2B  2B_123        2.5123   \n",
              "156      2B  2B_124        2.5122   \n",
              "157      2B  2B_125        2.5120   \n",
              "158      2B  2B_126        2.5120   \n",
              "159      2B  2B_127        2.5119   \n",
              "\n",
              "                                              file_loc  \n",
              "0    /the-eye.eu/public/AI/cah/laion400m-met-releas...  \n",
              "1    /the-eye.eu/public/AI/cah/laion400m-met-releas...  \n",
              "2    /the-eye.eu/public/AI/cah/laion400m-met-releas...  \n",
              "3    /the-eye.eu/public/AI/cah/laion400m-met-releas...  \n",
              "4    /the-eye.eu/public/AI/cah/laion400m-met-releas...  \n",
              "..                                                 ...  \n",
              "155  /LAION-2Ben/laion2B-en/part-00122-5114fd87-297...  \n",
              "156  /LAION-2Ben/laion2B-en/part-00104-5114fd87-297...  \n",
              "157  /LAION-2Ben/laion2B-en/part-00102-5114fd87-297...  \n",
              "158  /LAION-2Ben/laion2B-en/part-00113-5114fd87-297...  \n",
              "159  /LAION-2Ben/laion2B-en/part-00126-5114fd87-297...  \n",
              "\n",
              "[160 rows x 4 columns]"
            ],
            "text/html": [
              "\n",
              "  <div id=\"df-f5311774-0db1-44c1-8434-69d628162440\">\n",
              "    <div class=\"colab-df-container\">\n",
              "      <div>\n",
              "<style scoped>\n",
              "    .dataframe tbody tr th:only-of-type {\n",
              "        vertical-align: middle;\n",
              "    }\n",
              "\n",
              "    .dataframe tbody tr th {\n",
              "        vertical-align: top;\n",
              "    }\n",
              "\n",
              "    .dataframe thead th {\n",
              "        text-align: right;\n",
              "    }\n",
              "</style>\n",
              "<table border=\"1\" class=\"dataframe\">\n",
              "  <thead>\n",
              "    <tr style=\"text-align: right;\">\n",
              "      <th></th>\n",
              "      <th>dataset</th>\n",
              "      <th>file_id</th>\n",
              "      <th>file_size_GB</th>\n",
              "      <th>file_loc</th>\n",
              "    </tr>\n",
              "  </thead>\n",
              "  <tbody>\n",
              "    <tr>\n",
              "      <th>0</th>\n",
              "      <td>400m</td>\n",
              "      <td>400m_0</td>\n",
              "      <td>1.6794</td>\n",
              "      <td>/the-eye.eu/public/AI/cah/laion400m-met-releas...</td>\n",
              "    </tr>\n",
              "    <tr>\n",
              "      <th>1</th>\n",
              "      <td>400m</td>\n",
              "      <td>400m_1</td>\n",
              "      <td>1.6800</td>\n",
              "      <td>/the-eye.eu/public/AI/cah/laion400m-met-releas...</td>\n",
              "    </tr>\n",
              "    <tr>\n",
              "      <th>2</th>\n",
              "      <td>400m</td>\n",
              "      <td>400m_2</td>\n",
              "      <td>1.6792</td>\n",
              "      <td>/the-eye.eu/public/AI/cah/laion400m-met-releas...</td>\n",
              "    </tr>\n",
              "    <tr>\n",
              "      <th>3</th>\n",
              "      <td>400m</td>\n",
              "      <td>400m_3</td>\n",
              "      <td>1.6797</td>\n",
              "      <td>/the-eye.eu/public/AI/cah/laion400m-met-releas...</td>\n",
              "    </tr>\n",
              "    <tr>\n",
              "      <th>4</th>\n",
              "      <td>400m</td>\n",
              "      <td>400m_4</td>\n",
              "      <td>1.6797</td>\n",
              "      <td>/the-eye.eu/public/AI/cah/laion400m-met-releas...</td>\n",
              "    </tr>\n",
              "    <tr>\n",
              "      <th>...</th>\n",
              "      <td>...</td>\n",
              "      <td>...</td>\n",
              "      <td>...</td>\n",
              "      <td>...</td>\n",
              "    </tr>\n",
              "    <tr>\n",
              "      <th>155</th>\n",
              "      <td>2B</td>\n",
              "      <td>2B_123</td>\n",
              "      <td>2.5123</td>\n",
              "      <td>/LAION-2Ben/laion2B-en/part-00122-5114fd87-297...</td>\n",
              "    </tr>\n",
              "    <tr>\n",
              "      <th>156</th>\n",
              "      <td>2B</td>\n",
              "      <td>2B_124</td>\n",
              "      <td>2.5122</td>\n",
              "      <td>/LAION-2Ben/laion2B-en/part-00104-5114fd87-297...</td>\n",
              "    </tr>\n",
              "    <tr>\n",
              "      <th>157</th>\n",
              "      <td>2B</td>\n",
              "      <td>2B_125</td>\n",
              "      <td>2.5120</td>\n",
              "      <td>/LAION-2Ben/laion2B-en/part-00102-5114fd87-297...</td>\n",
              "    </tr>\n",
              "    <tr>\n",
              "      <th>158</th>\n",
              "      <td>2B</td>\n",
              "      <td>2B_126</td>\n",
              "      <td>2.5120</td>\n",
              "      <td>/LAION-2Ben/laion2B-en/part-00113-5114fd87-297...</td>\n",
              "    </tr>\n",
              "    <tr>\n",
              "      <th>159</th>\n",
              "      <td>2B</td>\n",
              "      <td>2B_127</td>\n",
              "      <td>2.5119</td>\n",
              "      <td>/LAION-2Ben/laion2B-en/part-00126-5114fd87-297...</td>\n",
              "    </tr>\n",
              "  </tbody>\n",
              "</table>\n",
              "<p>160 rows × 4 columns</p>\n",
              "</div>\n",
              "      <button class=\"colab-df-convert\" onclick=\"convertToInteractive('df-f5311774-0db1-44c1-8434-69d628162440')\"\n",
              "              title=\"Convert this dataframe to an interactive table.\"\n",
              "              style=\"display:none;\">\n",
              "        \n",
              "  <svg xmlns=\"http://www.w3.org/2000/svg\" height=\"24px\"viewBox=\"0 0 24 24\"\n",
              "       width=\"24px\">\n",
              "    <path d=\"M0 0h24v24H0V0z\" fill=\"none\"/>\n",
              "    <path d=\"M18.56 5.44l.94 2.06.94-2.06 2.06-.94-2.06-.94-.94-2.06-.94 2.06-2.06.94zm-11 1L8.5 8.5l.94-2.06 2.06-.94-2.06-.94L8.5 2.5l-.94 2.06-2.06.94zm10 10l.94 2.06.94-2.06 2.06-.94-2.06-.94-.94-2.06-.94 2.06-2.06.94z\"/><path d=\"M17.41 7.96l-1.37-1.37c-.4-.4-.92-.59-1.43-.59-.52 0-1.04.2-1.43.59L10.3 9.45l-7.72 7.72c-.78.78-.78 2.05 0 2.83L4 21.41c.39.39.9.59 1.41.59.51 0 1.02-.2 1.41-.59l7.78-7.78 2.81-2.81c.8-.78.8-2.07 0-2.86zM5.41 20L4 18.59l7.72-7.72 1.47 1.35L5.41 20z\"/>\n",
              "  </svg>\n",
              "      </button>\n",
              "      \n",
              "  <style>\n",
              "    .colab-df-container {\n",
              "      display:flex;\n",
              "      flex-wrap:wrap;\n",
              "      gap: 12px;\n",
              "    }\n",
              "\n",
              "    .colab-df-convert {\n",
              "      background-color: #E8F0FE;\n",
              "      border: none;\n",
              "      border-radius: 50%;\n",
              "      cursor: pointer;\n",
              "      display: none;\n",
              "      fill: #1967D2;\n",
              "      height: 32px;\n",
              "      padding: 0 0 0 0;\n",
              "      width: 32px;\n",
              "    }\n",
              "\n",
              "    .colab-df-convert:hover {\n",
              "      background-color: #E2EBFA;\n",
              "      box-shadow: 0px 1px 2px rgba(60, 64, 67, 0.3), 0px 1px 3px 1px rgba(60, 64, 67, 0.15);\n",
              "      fill: #174EA6;\n",
              "    }\n",
              "\n",
              "    [theme=dark] .colab-df-convert {\n",
              "      background-color: #3B4455;\n",
              "      fill: #D2E3FC;\n",
              "    }\n",
              "\n",
              "    [theme=dark] .colab-df-convert:hover {\n",
              "      background-color: #434B5C;\n",
              "      box-shadow: 0px 1px 3px 1px rgba(0, 0, 0, 0.15);\n",
              "      filter: drop-shadow(0px 1px 2px rgba(0, 0, 0, 0.3));\n",
              "      fill: #FFFFFF;\n",
              "    }\n",
              "  </style>\n",
              "\n",
              "      <script>\n",
              "        const buttonEl =\n",
              "          document.querySelector('#df-f5311774-0db1-44c1-8434-69d628162440 button.colab-df-convert');\n",
              "        buttonEl.style.display =\n",
              "          google.colab.kernel.accessAllowed ? 'block' : 'none';\n",
              "\n",
              "        async function convertToInteractive(key) {\n",
              "          const element = document.querySelector('#df-f5311774-0db1-44c1-8434-69d628162440');\n",
              "          const dataTable =\n",
              "            await google.colab.kernel.invokeFunction('convertToInteractive',\n",
              "                                                     [key], {});\n",
              "          if (!dataTable) return;\n",
              "\n",
              "          const docLinkHtml = 'Like what you see? Visit the ' +\n",
              "            '<a target=\"_blank\" href=https://colab.research.google.com/notebooks/data_table.ipynb>data table notebook</a>'\n",
              "            + ' to learn more about interactive tables.';\n",
              "          element.innerHTML = '';\n",
              "          dataTable['output_type'] = 'display_data';\n",
              "          await google.colab.output.renderOutput(dataTable, element);\n",
              "          const docLink = document.createElement('div');\n",
              "          docLink.innerHTML = docLinkHtml;\n",
              "          element.appendChild(docLink);\n",
              "        }\n",
              "      </script>\n",
              "    </div>\n",
              "  </div>\n",
              "  "
            ]
          },
          "metadata": {},
          "execution_count": 2
        }
      ]
    },
    {
      "cell_type": "code",
      "source": [
        "df_parquet['parquet_loc']=data_dir+df_parquet.file_loc\n",
        "df_parquet.groupby('dataset')['file_size_GB'].describe(), df_parquet.groupby('dataset')['file_size_GB'].sum()"
      ],
      "metadata": {
        "id": "kAelCG5HHATe",
        "colab": {
          "base_uri": "https://localhost:8080/"
        },
        "outputId": "f97d79f4-d5ff-4956-f488-f615aa9a9c02"
      },
      "execution_count": null,
      "outputs": [
        {
          "output_type": "execute_result",
          "data": {
            "text/plain": [
              "(         count      mean       std     min       25%     50%     75%     max\n",
              " dataset                                                                     \n",
              " 2B       128.0  2.512508  0.000356  2.5116  2.512275  2.5125  2.5128  2.5132\n",
              " 400m      32.0  1.679731  0.000330  1.6792  1.679500  1.6797  1.6800  1.6806,\n",
              " dataset\n",
              " 2B      321.6010\n",
              " 400m     53.7514\n",
              " Name: file_size_GB, dtype: float64)"
            ]
          },
          "metadata": {},
          "execution_count": 3
        }
      ]
    },
    {
      "cell_type": "code",
      "source": [
        "parquet_list_400m=df_parquet.parquet_loc.values[0:32]\n",
        "parquet_list_2b=df_parquet.parquet_loc.values[32:]\n",
        "file_0_400m=parquet_list_400m[0]\n",
        "file_0_2b=parquet_list_2b[0]\n",
        "print([file_0_400m,file_0_2b])"
      ],
      "metadata": {
        "colab": {
          "base_uri": "https://localhost:8080/"
        },
        "id": "4Lpht7vY0EWV",
        "outputId": "3f38a9a1-27f0-415d-f59b-b94d4925f07c"
      },
      "execution_count": null,
      "outputs": [
        {
          "output_type": "stream",
          "name": "stdout",
          "text": [
            "['/gdrive/My Drive/Colab Notebooks/0_laion_dataset/the-eye.eu/public/AI/cah/laion400m-met-release/laion400m-meta/part-00000-5b54c5d5-bbcf-484d-a2ce-0d6f73df1a36-c000.snappy.parquet', '/gdrive/My Drive/Colab Notebooks/0_laion_dataset/LAION-2Ben/laion2B-en/part-00026-5114fd87-297e-42b0-9d11-50f1df323dfa-c000.snappy.parquet']\n"
          ]
        }
      ]
    },
    {
      "cell_type": "code",
      "source": [
        "!pip install --quiet pytictoc\n",
        "from pytictoc import TicToc\n",
        "t = TicToc()"
      ],
      "metadata": {
        "id": "JsWY_XXR3WR0"
      },
      "execution_count": null,
      "outputs": []
    },
    {
      "cell_type": "markdown",
      "source": [
        "Now, let us look at how the _raw_ parquet files look like:"
      ],
      "metadata": {
        "id": "WvueEwdG0kW-"
      }
    },
    {
      "cell_type": "code",
      "source": [
        "t.tic()\n",
        "df_400m_0 = pd.read_parquet(file_0_400m)\n",
        "print(df_400m_0.shape)\n",
        "t.toc()\n",
        "df_400m_0.head(4)"
      ],
      "metadata": {
        "colab": {
          "base_uri": "https://localhost:8080/",
          "height": 210
        },
        "id": "0MiJZQjN0lVs",
        "outputId": "57ba9d40-4228-47e2-c71e-b2c96634851c"
      },
      "execution_count": null,
      "outputs": [
        {
          "output_type": "stream",
          "name": "stdout",
          "text": [
            "(12933524, 8)\n",
            "Elapsed time is 30.278816 seconds.\n"
          ]
        },
        {
          "output_type": "execute_result",
          "data": {
            "text/plain": [
              "      SAMPLE_ID                                                URL  \\\n",
              "0  1.581282e+12  http://media.rightmove.co.uk/148k/147518/58718...   \n",
              "1  1.060015e+12  https://thumbs.ebaystatic.com/images/g/DYEAAOS...   \n",
              "2  3.372497e+12  https://farm1.staticflickr.com/784/40182677504...   \n",
              "3  3.820200e+11  https://t2.ftcdn.net/jpg/00/58/35/35/240_F_583...   \n",
              "\n",
              "                                                TEXT  HEIGHT  WIDTH LICENSE  \\\n",
              "0            View EPC Rating Graph for this property   109.0  100.0       ?   \n",
              "1  Silverline Air Framing Nailer 90mm 10 - 12 Gau...   225.0  225.0       ?   \n",
              "2                                    Anhui Mountains   800.0  514.0       ?   \n",
              "3                         Acute pain in a woman knee   257.0  240.0       ?   \n",
              "\n",
              "       NSFW  similarity  \n",
              "0    UNSURE    0.312813  \n",
              "1  UNLIKELY    0.312485  \n",
              "2  UNLIKELY    0.316512  \n",
              "3  UNLIKELY    0.344278  "
            ],
            "text/html": [
              "\n",
              "  <div id=\"df-b3849a89-d490-467e-bbfa-502af1a6c7be\">\n",
              "    <div class=\"colab-df-container\">\n",
              "      <div>\n",
              "<style scoped>\n",
              "    .dataframe tbody tr th:only-of-type {\n",
              "        vertical-align: middle;\n",
              "    }\n",
              "\n",
              "    .dataframe tbody tr th {\n",
              "        vertical-align: top;\n",
              "    }\n",
              "\n",
              "    .dataframe thead th {\n",
              "        text-align: right;\n",
              "    }\n",
              "</style>\n",
              "<table border=\"1\" class=\"dataframe\">\n",
              "  <thead>\n",
              "    <tr style=\"text-align: right;\">\n",
              "      <th></th>\n",
              "      <th>SAMPLE_ID</th>\n",
              "      <th>URL</th>\n",
              "      <th>TEXT</th>\n",
              "      <th>HEIGHT</th>\n",
              "      <th>WIDTH</th>\n",
              "      <th>LICENSE</th>\n",
              "      <th>NSFW</th>\n",
              "      <th>similarity</th>\n",
              "    </tr>\n",
              "  </thead>\n",
              "  <tbody>\n",
              "    <tr>\n",
              "      <th>0</th>\n",
              "      <td>1.581282e+12</td>\n",
              "      <td>http://media.rightmove.co.uk/148k/147518/58718...</td>\n",
              "      <td>View EPC Rating Graph for this property</td>\n",
              "      <td>109.0</td>\n",
              "      <td>100.0</td>\n",
              "      <td>?</td>\n",
              "      <td>UNSURE</td>\n",
              "      <td>0.312813</td>\n",
              "    </tr>\n",
              "    <tr>\n",
              "      <th>1</th>\n",
              "      <td>1.060015e+12</td>\n",
              "      <td>https://thumbs.ebaystatic.com/images/g/DYEAAOS...</td>\n",
              "      <td>Silverline Air Framing Nailer 90mm 10 - 12 Gau...</td>\n",
              "      <td>225.0</td>\n",
              "      <td>225.0</td>\n",
              "      <td>?</td>\n",
              "      <td>UNLIKELY</td>\n",
              "      <td>0.312485</td>\n",
              "    </tr>\n",
              "    <tr>\n",
              "      <th>2</th>\n",
              "      <td>3.372497e+12</td>\n",
              "      <td>https://farm1.staticflickr.com/784/40182677504...</td>\n",
              "      <td>Anhui Mountains</td>\n",
              "      <td>800.0</td>\n",
              "      <td>514.0</td>\n",
              "      <td>?</td>\n",
              "      <td>UNLIKELY</td>\n",
              "      <td>0.316512</td>\n",
              "    </tr>\n",
              "    <tr>\n",
              "      <th>3</th>\n",
              "      <td>3.820200e+11</td>\n",
              "      <td>https://t2.ftcdn.net/jpg/00/58/35/35/240_F_583...</td>\n",
              "      <td>Acute pain in a woman knee</td>\n",
              "      <td>257.0</td>\n",
              "      <td>240.0</td>\n",
              "      <td>?</td>\n",
              "      <td>UNLIKELY</td>\n",
              "      <td>0.344278</td>\n",
              "    </tr>\n",
              "  </tbody>\n",
              "</table>\n",
              "</div>\n",
              "      <button class=\"colab-df-convert\" onclick=\"convertToInteractive('df-b3849a89-d490-467e-bbfa-502af1a6c7be')\"\n",
              "              title=\"Convert this dataframe to an interactive table.\"\n",
              "              style=\"display:none;\">\n",
              "        \n",
              "  <svg xmlns=\"http://www.w3.org/2000/svg\" height=\"24px\"viewBox=\"0 0 24 24\"\n",
              "       width=\"24px\">\n",
              "    <path d=\"M0 0h24v24H0V0z\" fill=\"none\"/>\n",
              "    <path d=\"M18.56 5.44l.94 2.06.94-2.06 2.06-.94-2.06-.94-.94-2.06-.94 2.06-2.06.94zm-11 1L8.5 8.5l.94-2.06 2.06-.94-2.06-.94L8.5 2.5l-.94 2.06-2.06.94zm10 10l.94 2.06.94-2.06 2.06-.94-2.06-.94-.94-2.06-.94 2.06-2.06.94z\"/><path d=\"M17.41 7.96l-1.37-1.37c-.4-.4-.92-.59-1.43-.59-.52 0-1.04.2-1.43.59L10.3 9.45l-7.72 7.72c-.78.78-.78 2.05 0 2.83L4 21.41c.39.39.9.59 1.41.59.51 0 1.02-.2 1.41-.59l7.78-7.78 2.81-2.81c.8-.78.8-2.07 0-2.86zM5.41 20L4 18.59l7.72-7.72 1.47 1.35L5.41 20z\"/>\n",
              "  </svg>\n",
              "      </button>\n",
              "      \n",
              "  <style>\n",
              "    .colab-df-container {\n",
              "      display:flex;\n",
              "      flex-wrap:wrap;\n",
              "      gap: 12px;\n",
              "    }\n",
              "\n",
              "    .colab-df-convert {\n",
              "      background-color: #E8F0FE;\n",
              "      border: none;\n",
              "      border-radius: 50%;\n",
              "      cursor: pointer;\n",
              "      display: none;\n",
              "      fill: #1967D2;\n",
              "      height: 32px;\n",
              "      padding: 0 0 0 0;\n",
              "      width: 32px;\n",
              "    }\n",
              "\n",
              "    .colab-df-convert:hover {\n",
              "      background-color: #E2EBFA;\n",
              "      box-shadow: 0px 1px 2px rgba(60, 64, 67, 0.3), 0px 1px 3px 1px rgba(60, 64, 67, 0.15);\n",
              "      fill: #174EA6;\n",
              "    }\n",
              "\n",
              "    [theme=dark] .colab-df-convert {\n",
              "      background-color: #3B4455;\n",
              "      fill: #D2E3FC;\n",
              "    }\n",
              "\n",
              "    [theme=dark] .colab-df-convert:hover {\n",
              "      background-color: #434B5C;\n",
              "      box-shadow: 0px 1px 3px 1px rgba(0, 0, 0, 0.15);\n",
              "      filter: drop-shadow(0px 1px 2px rgba(0, 0, 0, 0.3));\n",
              "      fill: #FFFFFF;\n",
              "    }\n",
              "  </style>\n",
              "\n",
              "      <script>\n",
              "        const buttonEl =\n",
              "          document.querySelector('#df-b3849a89-d490-467e-bbfa-502af1a6c7be button.colab-df-convert');\n",
              "        buttonEl.style.display =\n",
              "          google.colab.kernel.accessAllowed ? 'block' : 'none';\n",
              "\n",
              "        async function convertToInteractive(key) {\n",
              "          const element = document.querySelector('#df-b3849a89-d490-467e-bbfa-502af1a6c7be');\n",
              "          const dataTable =\n",
              "            await google.colab.kernel.invokeFunction('convertToInteractive',\n",
              "                                                     [key], {});\n",
              "          if (!dataTable) return;\n",
              "\n",
              "          const docLinkHtml = 'Like what you see? Visit the ' +\n",
              "            '<a target=\"_blank\" href=https://colab.research.google.com/notebooks/data_table.ipynb>data table notebook</a>'\n",
              "            + ' to learn more about interactive tables.';\n",
              "          element.innerHTML = '';\n",
              "          dataTable['output_type'] = 'display_data';\n",
              "          await google.colab.output.renderOutput(dataTable, element);\n",
              "          const docLink = document.createElement('div');\n",
              "          docLink.innerHTML = docLinkHtml;\n",
              "          element.appendChild(docLink);\n",
              "        }\n",
              "      </script>\n",
              "    </div>\n",
              "  </div>\n",
              "  "
            ]
          },
          "metadata": {},
          "execution_count": 6
        }
      ]
    },
    {
      "cell_type": "code",
      "source": [
        "t.tic()\n",
        "df_2b_0 = pd.read_parquet(file_0_2b)\n",
        "print(df_2b_0.shape)\n",
        "t.toc()\n",
        "df_2b_0.head(4)"
      ],
      "metadata": {
        "colab": {
          "base_uri": "https://localhost:8080/",
          "height": 210
        },
        "id": "aW47fUT2YMG6",
        "outputId": "e0136baf-b13a-497c-9389-36b2eb5d9d20"
      },
      "execution_count": null,
      "outputs": [
        {
          "output_type": "stream",
          "name": "stdout",
          "text": [
            "(18141894, 8)\n",
            "Elapsed time is 48.373117 seconds.\n"
          ]
        },
        {
          "output_type": "execute_result",
          "data": {
            "text/plain": [
              "      SAMPLE_ID                                                URL  \\\n",
              "0  3.605777e+12  https://i.ebayimg.com/thumbs/images/g/kHAAAOSw...   \n",
              "1  7.365890e+11  http://s7d9.scene7.com/is/image/BedBathandBeyo...   \n",
              "2  5.892820e+11  https://thumb101.shutterstock.com/image-photo/...   \n",
              "3  3.640733e+12  https://www.hplaptopbattery.com.au/rr_big/pic_...   \n",
              "\n",
              "                                                TEXT  HEIGHT  WIDTH LICENSE  \\\n",
              "0  DAREDEVIL / VOL 1 / 285 / 1990 / MARVEL COMICS...   152.0  225.0       ?   \n",
              "1                             Avanti Shower Curtains   400.0  400.0       ?   \n",
              "2  Beautiful young woman wearing white wool hat a...   450.0  320.0       ?   \n",
              "3                   Battery for HP HSTNN-PB6T laptop   730.0  459.0       ?   \n",
              "\n",
              "       NSFW  similarity  \n",
              "0  UNLIKELY    0.349755  \n",
              "1  UNLIKELY    0.338636  \n",
              "2  UNLIKELY    0.336294  \n",
              "3  UNLIKELY    0.340967  "
            ],
            "text/html": [
              "\n",
              "  <div id=\"df-73c410bd-3e46-4ae7-8465-422a52b80f47\">\n",
              "    <div class=\"colab-df-container\">\n",
              "      <div>\n",
              "<style scoped>\n",
              "    .dataframe tbody tr th:only-of-type {\n",
              "        vertical-align: middle;\n",
              "    }\n",
              "\n",
              "    .dataframe tbody tr th {\n",
              "        vertical-align: top;\n",
              "    }\n",
              "\n",
              "    .dataframe thead th {\n",
              "        text-align: right;\n",
              "    }\n",
              "</style>\n",
              "<table border=\"1\" class=\"dataframe\">\n",
              "  <thead>\n",
              "    <tr style=\"text-align: right;\">\n",
              "      <th></th>\n",
              "      <th>SAMPLE_ID</th>\n",
              "      <th>URL</th>\n",
              "      <th>TEXT</th>\n",
              "      <th>HEIGHT</th>\n",
              "      <th>WIDTH</th>\n",
              "      <th>LICENSE</th>\n",
              "      <th>NSFW</th>\n",
              "      <th>similarity</th>\n",
              "    </tr>\n",
              "  </thead>\n",
              "  <tbody>\n",
              "    <tr>\n",
              "      <th>0</th>\n",
              "      <td>3.605777e+12</td>\n",
              "      <td>https://i.ebayimg.com/thumbs/images/g/kHAAAOSw...</td>\n",
              "      <td>DAREDEVIL / VOL 1 / 285 / 1990 / MARVEL COMICS...</td>\n",
              "      <td>152.0</td>\n",
              "      <td>225.0</td>\n",
              "      <td>?</td>\n",
              "      <td>UNLIKELY</td>\n",
              "      <td>0.349755</td>\n",
              "    </tr>\n",
              "    <tr>\n",
              "      <th>1</th>\n",
              "      <td>7.365890e+11</td>\n",
              "      <td>http://s7d9.scene7.com/is/image/BedBathandBeyo...</td>\n",
              "      <td>Avanti Shower Curtains</td>\n",
              "      <td>400.0</td>\n",
              "      <td>400.0</td>\n",
              "      <td>?</td>\n",
              "      <td>UNLIKELY</td>\n",
              "      <td>0.338636</td>\n",
              "    </tr>\n",
              "    <tr>\n",
              "      <th>2</th>\n",
              "      <td>5.892820e+11</td>\n",
              "      <td>https://thumb101.shutterstock.com/image-photo/...</td>\n",
              "      <td>Beautiful young woman wearing white wool hat a...</td>\n",
              "      <td>450.0</td>\n",
              "      <td>320.0</td>\n",
              "      <td>?</td>\n",
              "      <td>UNLIKELY</td>\n",
              "      <td>0.336294</td>\n",
              "    </tr>\n",
              "    <tr>\n",
              "      <th>3</th>\n",
              "      <td>3.640733e+12</td>\n",
              "      <td>https://www.hplaptopbattery.com.au/rr_big/pic_...</td>\n",
              "      <td>Battery for HP HSTNN-PB6T laptop</td>\n",
              "      <td>730.0</td>\n",
              "      <td>459.0</td>\n",
              "      <td>?</td>\n",
              "      <td>UNLIKELY</td>\n",
              "      <td>0.340967</td>\n",
              "    </tr>\n",
              "  </tbody>\n",
              "</table>\n",
              "</div>\n",
              "      <button class=\"colab-df-convert\" onclick=\"convertToInteractive('df-73c410bd-3e46-4ae7-8465-422a52b80f47')\"\n",
              "              title=\"Convert this dataframe to an interactive table.\"\n",
              "              style=\"display:none;\">\n",
              "        \n",
              "  <svg xmlns=\"http://www.w3.org/2000/svg\" height=\"24px\"viewBox=\"0 0 24 24\"\n",
              "       width=\"24px\">\n",
              "    <path d=\"M0 0h24v24H0V0z\" fill=\"none\"/>\n",
              "    <path d=\"M18.56 5.44l.94 2.06.94-2.06 2.06-.94-2.06-.94-.94-2.06-.94 2.06-2.06.94zm-11 1L8.5 8.5l.94-2.06 2.06-.94-2.06-.94L8.5 2.5l-.94 2.06-2.06.94zm10 10l.94 2.06.94-2.06 2.06-.94-2.06-.94-.94-2.06-.94 2.06-2.06.94z\"/><path d=\"M17.41 7.96l-1.37-1.37c-.4-.4-.92-.59-1.43-.59-.52 0-1.04.2-1.43.59L10.3 9.45l-7.72 7.72c-.78.78-.78 2.05 0 2.83L4 21.41c.39.39.9.59 1.41.59.51 0 1.02-.2 1.41-.59l7.78-7.78 2.81-2.81c.8-.78.8-2.07 0-2.86zM5.41 20L4 18.59l7.72-7.72 1.47 1.35L5.41 20z\"/>\n",
              "  </svg>\n",
              "      </button>\n",
              "      \n",
              "  <style>\n",
              "    .colab-df-container {\n",
              "      display:flex;\n",
              "      flex-wrap:wrap;\n",
              "      gap: 12px;\n",
              "    }\n",
              "\n",
              "    .colab-df-convert {\n",
              "      background-color: #E8F0FE;\n",
              "      border: none;\n",
              "      border-radius: 50%;\n",
              "      cursor: pointer;\n",
              "      display: none;\n",
              "      fill: #1967D2;\n",
              "      height: 32px;\n",
              "      padding: 0 0 0 0;\n",
              "      width: 32px;\n",
              "    }\n",
              "\n",
              "    .colab-df-convert:hover {\n",
              "      background-color: #E2EBFA;\n",
              "      box-shadow: 0px 1px 2px rgba(60, 64, 67, 0.3), 0px 1px 3px 1px rgba(60, 64, 67, 0.15);\n",
              "      fill: #174EA6;\n",
              "    }\n",
              "\n",
              "    [theme=dark] .colab-df-convert {\n",
              "      background-color: #3B4455;\n",
              "      fill: #D2E3FC;\n",
              "    }\n",
              "\n",
              "    [theme=dark] .colab-df-convert:hover {\n",
              "      background-color: #434B5C;\n",
              "      box-shadow: 0px 1px 3px 1px rgba(0, 0, 0, 0.15);\n",
              "      filter: drop-shadow(0px 1px 2px rgba(0, 0, 0, 0.3));\n",
              "      fill: #FFFFFF;\n",
              "    }\n",
              "  </style>\n",
              "\n",
              "      <script>\n",
              "        const buttonEl =\n",
              "          document.querySelector('#df-73c410bd-3e46-4ae7-8465-422a52b80f47 button.colab-df-convert');\n",
              "        buttonEl.style.display =\n",
              "          google.colab.kernel.accessAllowed ? 'block' : 'none';\n",
              "\n",
              "        async function convertToInteractive(key) {\n",
              "          const element = document.querySelector('#df-73c410bd-3e46-4ae7-8465-422a52b80f47');\n",
              "          const dataTable =\n",
              "            await google.colab.kernel.invokeFunction('convertToInteractive',\n",
              "                                                     [key], {});\n",
              "          if (!dataTable) return;\n",
              "\n",
              "          const docLinkHtml = 'Like what you see? Visit the ' +\n",
              "            '<a target=\"_blank\" href=https://colab.research.google.com/notebooks/data_table.ipynb>data table notebook</a>'\n",
              "            + ' to learn more about interactive tables.';\n",
              "          element.innerHTML = '';\n",
              "          dataTable['output_type'] = 'display_data';\n",
              "          await google.colab.output.renderOutput(dataTable, element);\n",
              "          const docLink = document.createElement('div');\n",
              "          docLink.innerHTML = docLinkHtml;\n",
              "          element.appendChild(docLink);\n",
              "        }\n",
              "      </script>\n",
              "    </div>\n",
              "  </div>\n",
              "  "
            ]
          },
          "metadata": {},
          "execution_count": 7
        }
      ]
    },
    {
      "cell_type": "markdown",
      "source": [
        "Neat! Now ```pip install``` [pysentimiento](https://arxiv.org/abs/2106.09462) and ```pytictoc```"
      ],
      "metadata": {
        "id": "zm8_PDu98aLe"
      }
    },
    {
      "cell_type": "code",
      "source": [
        "# !pip install --upgrade accelerate\n",
        "!pip install --quiet pysentimiento"
      ],
      "metadata": {
        "id": "UpKzQIHKYDW4"
      },
      "execution_count": null,
      "outputs": []
    },
    {
      "cell_type": "markdown",
      "source": [
        "Getting acquainted with ```pysentimiento```:\n",
        "\n",
        "Let us initialize the pysentimiento analyzer and feed in an example to see what it produces ..."
      ],
      "metadata": {
        "id": "GyuyhUST9Yh4"
      }
    },
    {
      "cell_type": "code",
      "source": [
        "from pysentimiento import create_analyzer\n",
        "analyzer = create_analyzer(task=\"hate_speech\", lang=\"en\")\n",
        "df_2b_0.TEXT.values[0],analyzer.predict(df_2b_0.TEXT.values[0])"
      ],
      "metadata": {
        "id": "ll_PoLrVXSuv",
        "colab": {
          "base_uri": "https://localhost:8080/"
        },
        "outputId": "ab2bb4c4-b883-4ef0-b5e6-8bcccb80c6f4"
      },
      "execution_count": null,
      "outputs": [
        {
          "output_type": "execute_result",
          "data": {
            "text/plain": [
              "('DAREDEVIL / VOL 1 / 285 / 1990 / MARVEL COMICS / US-Comics',\n",
              " AnalyzerOutput(output=[], probas={hateful: 0.017, targeted: 0.012, aggressive: 0.011}))"
            ]
          },
          "metadata": {},
          "execution_count": 9
        }
      ]
    },
    {
      "cell_type": "code",
      "source": [
        "import sys\n",
        "print(\"Python version\")\n",
        "# See: https://github.com/pysentimiento/pysentimiento/issues/50\n",
        "print (sys.version)"
      ],
      "metadata": {
        "colab": {
          "base_uri": "https://localhost:8080/"
        },
        "id": "_S4DbB1xtlMU",
        "outputId": "2ba3f4ec-d0ec-4111-8203-d14ce3b5715a"
      },
      "execution_count": null,
      "outputs": [
        {
          "output_type": "stream",
          "name": "stdout",
          "text": [
            "Python version\n",
            "3.10.11 (main, Apr  5 2023, 14:15:10) [GCC 9.4.0]\n"
          ]
        }
      ]
    },
    {
      "cell_type": "code",
      "source": [
        "df_400m_0.TEXT.values[0],analyzer.predict(df_400m_0.TEXT.values[0])"
      ],
      "metadata": {
        "colab": {
          "base_uri": "https://localhost:8080/"
        },
        "id": "xyE9HPyQsqMl",
        "outputId": "42090f29-0b70-48de-a5ac-05bb3f283298"
      },
      "execution_count": null,
      "outputs": [
        {
          "output_type": "execute_result",
          "data": {
            "text/plain": [
              "('View EPC Rating Graph for this property',\n",
              " AnalyzerOutput(output=[], probas={hateful: 0.015, targeted: 0.012, aggressive: 0.011}))"
            ]
          },
          "metadata": {},
          "execution_count": 11
        }
      ]
    },
    {
      "cell_type": "markdown",
      "source": [
        "# 3: The random sampling experiment \n",
        "\n",
        "- Generate 0.1 million random indices per parquet file\n",
        "- Save these 0.1 million random indices of the associated parquet files\n",
        "- Parse the parquet file and extract the image (alt)textual descriptions pertaining to these 1e5 random indices as a numpy tensor\n",
        "- Pass the alt-text tensor through the hate-analyzer\n",
        "- Compute stats and save the results\n",
        "\n",
        " Now, let us _for-loop_ over all the (32 + 128) = 160 parquet files"
      ],
      "metadata": {
        "id": "DEzu-gWeYkmz"
      }
    },
    {
      "cell_type": "code",
      "source": [
        "# Make a directory for the intermediate results\n",
        "# RESULT_DIR='hate_detect_400m'\n",
        "RESULT_DIR='hate_detect_2B-en'\n",
        "os.makedirs(f'./{RESULT_DIR}/',exist_ok=True)"
      ],
      "metadata": {
        "id": "bC_n8k6xZJXG"
      },
      "execution_count": null,
      "outputs": []
    },
    {
      "cell_type": "code",
      "source": [
        "parquet_list=df_parquet.parquet_loc.values\n",
        "np.random.seed(42)\n",
        "N_samples=int(1e5) # Number of samples you have chosen to randomly sample\n",
        "N_parquet=len(parquet_list)\n",
        "N_samples,N_parquet"
      ],
      "metadata": {
        "colab": {
          "base_uri": "https://localhost:8080/"
        },
        "id": "9g_3TciLEhL3",
        "outputId": "e780b4b8-bbf1-4f1a-f007-7c79ecf4008d"
      },
      "execution_count": null,
      "outputs": [
        {
          "output_type": "execute_result",
          "data": {
            "text/plain": [
              "(100000, 160)"
            ]
          },
          "metadata": {},
          "execution_count": 13
        }
      ]
    },
    {
      "cell_type": "code",
      "source": [
        "# For-loop over all the files:\n",
        "\n",
        "# proba_mat_all=np.zeros((N_parquet,3)) # This is a (128 or 32) x 3 file-level prob-matrix\n",
        "# for ind_i,file_i in enumerate(parquet_list):\n",
        "#   # 0: Read the parquet file\n",
        "#   df_i = pd.read_parquet(file_i)\n",
        "#   # 1: Generate random indices for that parquet file\n",
        "#   ind_random_i=np.random.choice(df_i.shape[0],N_samples,replace=False)\n",
        "#   # 2: Extract the text-description from these indices\n",
        "#   texts_np_i = df_i.iloc[ind_random_i].TEXT.astype(str).values[0:N_samples]\n",
        "#   t.tic()\n",
        "#   # 3: Analyze the textual-content ( 1x3 o/p [P_hateful, P_targeted, P_aggressive])\n",
        "#   results_i=analyzer.predict(texts_np_i)\n",
        "#   t.toc()\n",
        "#   # 4: Compute the results\n",
        "#   res_mat_i=np.array(list(itertools.chain.from_iterable(x.probas.values() for x in results_i))).reshape(N_samples,3)\n",
        "#   prob_mat_i=np.mean(res_mat_i>0.5,axis=0)*100\n",
        "#   proba_mat_all[ind_i,:]=prob_mat_i\n",
        "#   print(prob_mat_i)\n",
        "#   # 5: Save the intermediate assets for further analysis\n",
        "#   np.save(f'./{RESULT_DIR}/ind_random_{ind_i}.npy',ind_random_i)\n",
        "#   np.save(f'./{RESULT_DIR}/res_mat_{ind_i}.npy',res_mat_i)\n",
        "#   np.save(f'./{RESULT_DIR}/prob_mat_{ind_i}.npy',prob_mat_i)\n",
        "# np.save(f'./{RESULT_DIR}/prob_mat_all.npy',proba_mat_all)\n",
        "# df=pd.DataFrame(data=proba_mat_all,columns=['P_hateful', 'P_targeted', 'P_aggressive'])\n",
        "# df.to_csv('df_hate_est_filewise_2b.csv',index=False)"
      ],
      "metadata": {
        "id": "3QpsLRij4uKt"
      },
      "execution_count": null,
      "outputs": []
    },
    {
      "cell_type": "markdown",
      "source": [
        "Thus, we have generated $(N_{parquet} \\times 3)+1 = \\left\\{97,385\\right\\}$ files for the two datasets.\n",
        "\n",
        "The four types of meta-dataset files are:\n",
        "\n",
        "\n",
        "- $N_{parquet}$ random-index files of the naming-format: ```ind_random_i.npy```. Each of these contain 0.1 million random indices pertaining to the rows of the $i^{th}$ parquet file (in ```parquet_list```). Shape: ```(100000,)```\n",
        "- $N_{parquet}$ _result-matrix_ files of shape ```(100000, 3)``` in the naming-format of ```res_mat_i.npy``` pertaining to the 0.1 million random-indexed rows of the $i^{th}$ parquet file.\n",
        "- $N_{parquet}$ _quality-failure-rate_ files of shape ```(3,)``` containing the  percentage of the 0.1 million random-indexed alt-text text samples in the $i^{th}$ parquet file that triggered a P_hateful/P_targeted/P_aggressive value of > 0.5 by the pysentimento detector (See np.mean(res_mat_i>0.5,axis=0)*100 in the cells above)\n",
        "- `prob_mat_all.npy`: A ($N_{parquet}$, 3) shaped numpy file that contains the parquet-file level mean-hate content."
      ],
      "metadata": {
        "id": "u1ljrs0w4cgt"
      }
    },
    {
      "cell_type": "code",
      "source": [
        "len(os.listdir('./hate_detect_400m')), len(os.listdir('./hate_detect_2B-en/'))"
      ],
      "metadata": {
        "colab": {
          "base_uri": "https://localhost:8080/"
        },
        "id": "5mC4oQXLE3nj",
        "outputId": "3abf46b5-32c2-43b0-d1b0-c6476a956b8b"
      },
      "execution_count": null,
      "outputs": [
        {
          "output_type": "execute_result",
          "data": {
            "text/plain": [
              "(97, 385)"
            ]
          },
          "metadata": {},
          "execution_count": 15
        }
      ]
    },
    {
      "cell_type": "markdown",
      "source": [
        "# 4: Post-experimentation analyses"
      ],
      "metadata": {
        "id": "Aq2nfT9Y6_-O"
      }
    },
    {
      "cell_type": "code",
      "source": [
        "p_400m=np.zeros((32*N_samples,3))\n",
        "p_2b=np.zeros((128*N_samples,3))\n",
        "#################################################\n",
        "for i in tqdm(range(32)):\n",
        "  res_mat_i=np.load(f'./hate_detect_400m/res_mat_{i}.npy')\n",
        "  p_400m[i*N_samples:(i+1)*N_samples,:]=res_mat_i\n",
        "#################################################\n",
        "\n",
        "for i in tqdm(range(128)):\n",
        "  res_mat_i=np.load(f'./hate_detect_2B-en/res_mat_{i}.npy')\n",
        "  p_2b[i*N_samples:(i+1)*N_samples,:]=res_mat_i\n",
        "#################################################"
      ],
      "metadata": {
        "colab": {
          "base_uri": "https://localhost:8080/",
          "height": 185,
          "referenced_widgets": [
            "5cb4b23af0b14b19a1e89607512d4b49",
            "87fb40aac3044373a4d777d369b240f6",
            "158baad2cd9946bd9ff42ac7243370f7",
            "76f1670b3be64f41b25a525f4fbdeda1",
            "27ef00e0de7440c2bc1ae9b9cb24a8bf",
            "82ffd1cc172c41a69aae284952633a95",
            "c9ae49004e3f47ed9725e0120cb0e9a1",
            "2ca70c49c2de4c2596fb6e908e7650c8",
            "4ca3b2b34ce34eeabecca02d04bdcb47",
            "75482c0fd15a42078da3a0a78bd3959b",
            "372fbf778bdd4b86bac09be2e002813f",
            "5c257dc3161d45959045a203d92bc8b8",
            "830a67e443ee4d21ad6baf89aebffb49",
            "ddd2f62306ef48b6aeccde90f9fb58a8",
            "986066ff1c0c4d2281f8483b51615c2a",
            "f69ea7ecdcaf4876abeda741dc9d6673",
            "8c5d3aeee7de4d1a890cb88e8ded98e3",
            "f3c24ab524a2450c8d7a22206ed69880",
            "36af53213cb74833ae5aa610a251dfcb",
            "27f2a4d042454e7bba0bb21d9a53270a",
            "b7aaf95b6df64d76833873fffabf4640",
            "0c0320bfa34f4696af861fe1b7abbac9"
          ]
        },
        "id": "GKfveQYm_o83",
        "outputId": "50fb8010-f010-4091-b119-4346b798fce1"
      },
      "execution_count": null,
      "outputs": [
        {
          "output_type": "stream",
          "name": "stderr",
          "text": [
            "<ipython-input-16-1f48ffc30f8c>:4: TqdmDeprecationWarning: This function will be removed in tqdm==5.0.0\n",
            "Please use `tqdm.notebook.tqdm` instead of `tqdm.tqdm_notebook`\n",
            "  for i in tqdm(range(32)):\n"
          ]
        },
        {
          "output_type": "display_data",
          "data": {
            "text/plain": [
              "  0%|          | 0/32 [00:00<?, ?it/s]"
            ],
            "application/vnd.jupyter.widget-view+json": {
              "version_major": 2,
              "version_minor": 0,
              "model_id": "5cb4b23af0b14b19a1e89607512d4b49"
            }
          },
          "metadata": {}
        },
        {
          "output_type": "stream",
          "name": "stderr",
          "text": [
            "<ipython-input-16-1f48ffc30f8c>:9: TqdmDeprecationWarning: This function will be removed in tqdm==5.0.0\n",
            "Please use `tqdm.notebook.tqdm` instead of `tqdm.tqdm_notebook`\n",
            "  for i in tqdm(range(128)):\n"
          ]
        },
        {
          "output_type": "display_data",
          "data": {
            "text/plain": [
              "  0%|          | 0/128 [00:00<?, ?it/s]"
            ],
            "application/vnd.jupyter.widget-view+json": {
              "version_major": 2,
              "version_minor": 0,
              "model_id": "5c257dc3161d45959045a203d92bc8b8"
            }
          },
          "metadata": {}
        }
      ]
    },
    {
      "cell_type": "markdown",
      "source": [
        "Let us begin by estimating the first-order (mean) statistics to see if there's a marked difference ..."
      ],
      "metadata": {
        "id": "K36L34oD7zJy"
      }
    },
    {
      "cell_type": "code",
      "source": [
        "print(p_400m.shape,p_2b.shape)\n",
        "np.mean(p_400m,axis=0),np.mean((p_400m>0.5),axis=0),np.mean(p_2b,axis=0),np.mean((p_2b>0.5),axis=0)"
      ],
      "metadata": {
        "colab": {
          "base_uri": "https://localhost:8080/"
        },
        "id": "RiK16Q-mB79v",
        "outputId": "7cd9aa35-b8e0-44a2-a811-b8b21d8cee67"
      },
      "execution_count": null,
      "outputs": [
        {
          "output_type": "stream",
          "name": "stdout",
          "text": [
            "(3200000, 3) (12800000, 3)\n"
          ]
        },
        {
          "output_type": "execute_result",
          "data": {
            "text/plain": [
              "(array([0.011083, 0.005196, 0.003977]),\n",
              " array([0.003854, 0.000888, 0.000145]),\n",
              " array([0.011663, 0.005351, 0.004019]),\n",
              " array([0.004412, 0.001098, 0.000181]))"
            ]
          },
          "metadata": {},
          "execution_count": 17
        }
      ]
    },
    {
      "cell_type": "markdown",
      "source": [
        "## $4(a): QFR-curve analysis"
      ],
      "metadata": {
        "id": "dnkiX8QB9B8V"
      }
    },
    {
      "cell_type": "code",
      "source": [
        "thresh_vec=np.linspace(0.1,0.8,13)\n",
        "\n",
        "type_vec=['hateful','targeted','aggressive']\n",
        "\n",
        "\n",
        "p_detect=[]\n",
        "for t in thresh_vec :\n",
        "  p_detect.append(((np.max(p_400m,axis=1)>=t).mean()*100,(np.max(p_2b,axis=1)>=t).mean()*100))\n",
        "\n",
        "p_detect_mat=np.array(p_detect)\n",
        "\n",
        "\n",
        "plt.figure(figsize=(10,7.5))\n",
        "plt.subplot(2,2,1)\n",
        "plt.plot(thresh_vec[1:],p_detect_mat[1:,1],'-.r+',label='2B')\n",
        "plt.plot(thresh_vec[1:],p_detect_mat[1:,0],'-.b*',label='400M')\n",
        "plt.fill_between(thresh_vec[1:],p_detect_mat[1:,1],p_detect_mat[1:,0],facecolor='purple',alpha=0.25)\n",
        "plt.ylabel(r'$\\psi$ : Quality Failure Rate (QFR) ',fontsize=12)\n",
        "plt.xlim([0.2,0.8])\n",
        "plt.xlabel(r'$P_{threshold}$')\n",
        "plt.grid('on')\n",
        "plt.title('Any-of-the-3')\n",
        "plt.legend()\n",
        "\n",
        "for col in range(3):\n",
        "  p_detect=[]\n",
        "  for t in thresh_vec :\n",
        "    p_detect.append(((p_400m[:,col]>=t).mean()*100,(p_2b[:,col]>=t).mean()*100))\n",
        "\n",
        "  p_detect_mat=np.array(p_detect)\n",
        "  plt.subplot(2,2,col+2)\n",
        "  plt.plot(thresh_vec[1:],p_detect_mat[1:,1],'-.r+',label='2B')\n",
        "  plt.plot(thresh_vec[1:],p_detect_mat[1:,0],'-.b*',label='400M')\n",
        "  plt.fill_between(thresh_vec[1:],p_detect_mat[1:,1],p_detect_mat[1:,0],facecolor='purple',alpha=0.25)\n",
        "  \n",
        "  plt.ylabel(r'$\\psi$ : Quality Failure Rate (QFR) ',fontsize=12)\n",
        "  plt.xlabel(r'$P_{threshold}$')\n",
        "  plt.title(type_vec[col])\n",
        "  plt.legend()\n",
        "  plt.grid('on')\n",
        "  plt.xlim([0.2,0.8])\n",
        "\n",
        "plt.tight_layout()\n",
        "\n",
        "# plt.savefig('p_detect.pdf',bbox_inches='tight')\n",
        "# plt.savefig('p_detect.png')"
      ],
      "metadata": {
        "colab": {
          "base_uri": "https://localhost:8080/",
          "height": 754
        },
        "id": "tX3XIZv5cnoD",
        "outputId": "0dc359f0-90ce-48dd-c7ac-59552ca2eb2e"
      },
      "execution_count": null,
      "outputs": [
        {
          "output_type": "display_data",
          "data": {
            "text/plain": [
              "<Figure size 1000x750 with 4 Axes>"
            ],
            "image/png": "[encoded data removed]"
          },
          "metadata": {
            "image/png": {
              "width": 986,
              "height": 737
            }
          }
        }
      ]
    },
    {
      "cell_type": "markdown",
      "source": [
        "## $4(b) : The underestimation of QFR demonstration\n",
        "\n",
        "This experiment demonstrates the perils of lazily extending QFR-results obtained from the 400M dataset to 2B-en dataset.\n",
        "\n",
        "Let us begin by evaluating the basic stats of the probability-matrices for the two datasets ..."
      ],
      "metadata": {
        "id": "cv3suNeg_yPg"
      }
    },
    {
      "cell_type": "code",
      "source": [
        "from scipy.stats import describe\n",
        "[describe(p_400m,axis=0), \n",
        " describe(p_2b,axis=0),\n",
        " describe(np.max(p_400m,axis=1)>0.5),\n",
        " describe(np.max(p_2b,axis=1)>0.5),\n",
        "(np.max(p_400m,axis=1)>0.5).sum(),(np.max(p_2b,axis=1)>0.5).sum()]"
      ],
      "metadata": {
        "colab": {
          "base_uri": "https://localhost:8080/"
        },
        "id": "urJ5oFGxZCqG",
        "outputId": "d1895154-6850-485e-a2de-d265dc2a8d7f"
      },
      "execution_count": null,
      "outputs": [
        {
          "output_type": "execute_result",
          "data": {
            "text/plain": [
              "[DescribeResult(nobs=3200000, minmax=(array([0.003968, 0.00101 , 0.001529]), array([0.997404, 0.991653, 0.982416])), mean=array([0.011083, 0.005196, 0.003977]), variance=array([0.00281 , 0.000625, 0.000107]), skewness=array([14.950273, 27.279172, 64.243515]), kurtosis=array([ 235.237175,  827.533348, 4693.846531])),\n",
              " DescribeResult(nobs=12800000, minmax=(array([0.003871, 0.00092 , 0.001531]), array([0.997459, 0.993499, 0.983851])), mean=array([0.011663, 0.005351, 0.004019]), variance=array([0.003223, 0.00077 , 0.000133]), skewness=array([14.013766, 25.174823, 57.613004]), kurtosis=array([ 206.186839,  700.476831, 3779.74378 ])),\n",
              " DescribeResult(nobs=3200000, minmax=(False, True), mean=0.0038590625, variance=0.0038441713379246405, skewness=16.004192199654522, kurtosis=254.1341679634835),\n",
              " DescribeResult(nobs=12800000, minmax=(False, True), mean=0.004417890625, variance=0.004398373211048441, skewness=14.94512644539241, kurtosis=221.3568044687685),\n",
              " 12349,\n",
              " 56549]"
            ]
          },
          "metadata": {},
          "execution_count": 19
        }
      ]
    },
    {
      "cell_type": "markdown",
      "source": [
        "There appears to be a marked increase in the mean values :(\n",
        "To check the validity of this observation, let us estimate CIs (Confidence Intervals) for this binomial proportion observation set"
      ],
      "metadata": {
        "id": "j8AegWpNAZ8l"
      }
    },
    {
      "cell_type": "code",
      "source": [
        "from statsmodels.stats.proportion import proportion_confint\n",
        "\n",
        "u_400m=np.mean(np.max(p_400m,axis=1)>0.5)*100 # QFR at 0.5 for the 400M dataset\n",
        "u_2b=np.mean(np.max(p_2b,axis=1)>0.5)*100# QFR at 0.5 for the 2B-en dataset\n",
        "\n",
        "ci_400m=np.array(proportion_confint(count=12349,nobs=3200000,alpha=0.05,method='wilson'))*100\n",
        "ci_2b=np.array(proportion_confint(count=56549,nobs=12800000,alpha=0.05,method='wilson'))*100\n",
        "\n",
        "u_400m,ci_400m,u_2b,ci_2b"
      ],
      "metadata": {
        "colab": {
          "base_uri": "https://localhost:8080/"
        },
        "id": "rm-oI4BiaAoZ",
        "outputId": "c2242590-913b-490f-88e9-a44256cb59e5"
      },
      "execution_count": null,
      "outputs": [
        {
          "output_type": "execute_result",
          "data": {
            "text/plain": [
              "(0.38590625,\n",
              " array([0.379172, 0.392759]),\n",
              " 0.44178906250000005,\n",
              " array([0.438171, 0.445437]))"
            ]
          },
          "metadata": {},
          "execution_count": 20
        }
      ]
    },
    {
      "cell_type": "markdown",
      "source": [
        "Wow!\n",
        "Let estimate the percentage increase b/w the 2B-en and 400M datasets as $\\frac{CI_{lower,2B}-CI_{upper,400M}}{CI_{upper,400M}}$"
      ],
      "metadata": {
        "id": "zGZfCIXABc-J"
      }
    },
    {
      "cell_type": "code",
      "source": [
        "perc_increase=((ci_2b[0]-ci_400m[1])/ci_400m[1])*100\n",
        "perc_increase"
      ],
      "metadata": {
        "colab": {
          "base_uri": "https://localhost:8080/"
        },
        "id": "0L73aMx9hkfn",
        "outputId": "31898232-c2b2-4edc-db8c-8d0764dcf6cc"
      },
      "execution_count": null,
      "outputs": [
        {
          "output_type": "execute_result",
          "data": {
            "text/plain": [
              "11.562156409730925"
            ]
          },
          "metadata": {},
          "execution_count": 21
        }
      ]
    },
    {
      "cell_type": "code",
      "source": [
        "n_400m=413e6\n",
        "n_2b=2.32e9\n",
        "\n",
        "ci_toxic_400m=n_400m*np.array(ci_400m)/100\n",
        "ci_toxic_2b=n_2b*np.array(ci_2b)/100\n",
        "ci_misestimate=n_2b*np.array(ci_400m)/100\n",
        "\n",
        "print(ci_toxic_400m, ci_toxic_2b , ci_misestimate )"
      ],
      "metadata": {
        "colab": {
          "base_uri": "https://localhost:8080/"
        },
        "id": "OVtQmryQci11",
        "outputId": "16d1e76b-2f71-4ab0-d70f-c5d87af61673"
      },
      "execution_count": null,
      "outputs": [
        {
          "output_type": "stream",
          "name": "stdout",
          "text": [
            "[1565981.815529 1622095.770604] [10165560.40693  10334142.205234] [8796798.576337 9112014.982568]\n"
          ]
        }
      ]
    },
    {
      "cell_type": "markdown",
      "source": [
        "Moving from CIs to estimating the number of excess toxic-images:"
      ],
      "metadata": {
        "id": "XG7i84TBDXw2"
      }
    },
    {
      "cell_type": "code",
      "source": [
        "n_diff=int(((n_2b*ci_2b[0])-(n_2b*ci_400m[1]))/100)\n",
        "n_diff"
      ],
      "metadata": {
        "colab": {
          "base_uri": "https://localhost:8080/"
        },
        "id": "QIUX_XwylQ-x",
        "outputId": "20109a1d-c940-463e-fda4-1ac02413fbfa"
      },
      "execution_count": null,
      "outputs": [
        {
          "output_type": "execute_result",
          "data": {
            "text/plain": [
              "1053545"
            ]
          },
          "metadata": {},
          "execution_count": 23
        }
      ]
    },
    {
      "cell_type": "code",
      "source": [
        "# mid-point analysis:\n",
        "[u_400m,u_2b],[np.diff(ci_400m)[0]/2,np.diff(ci_2b)[0]/2]"
      ],
      "metadata": {
        "colab": {
          "base_uri": "https://localhost:8080/"
        },
        "id": "r5QnrJ50jBM-",
        "outputId": "34ac8be8-a34f-407d-a6b5-72ae8f5fe308"
      },
      "execution_count": null,
      "outputs": [
        {
          "output_type": "execute_result",
          "data": {
            "text/plain": [
              "([0.38590625, 0.44178906250000005],\n",
              " [0.006793457030833838, 0.0036332284117203684])"
            ]
          },
          "metadata": {},
          "execution_count": 24
        }
      ]
    },
    {
      "cell_type": "code",
      "source": [
        "plt.figure(figsize=(10,4))\n",
        "plt.subplot(121)\n",
        "plt.errorbar([0,1],[u_400m,u_2b],[np.diff(ci_400m)[0]/2,np.diff(ci_2b)[0]/2],linestyle='None',  fmt=\"ob\",  capsize=8,  ecolor=\"k\")\n",
        "plt.xticks([0,1],['400M','2B-en'])\n",
        "plt.ylabel(r'$CI_{wilson}$ @ $\\alpha=0.05$')\n",
        "plt.grid('on')\n",
        "point1 = [0, ci_400m[1]]\n",
        "point2 = [1, ci_2b[0]]\n",
        "x_values = [point1[0], point2[0]]\n",
        "y_values = [point1[1], point2[1]]\n",
        "plt.plot(x_values, y_values, 'rd', linestyle=\"--\")\n",
        "plt.text(point2[0]-0.5, point2[1]-0.009, r\"$\\delta_{CI}=11.56$%\",fontsize=24)\n",
        "plt.title('(a) CI comparison between \\n 400M & 2B-en')\n",
        "\n",
        "\n",
        "plt.subplot(122)\n",
        "# plt.errorbar([0,1],[int(n_400m*u_400m),int(n_2b*u_2b)],[int(n_400m*np.diff(ci_400m)[0]/2),int(n_2b*np.diff(ci_2b)[0]/2)],linestyle='None',  fmt=\"ob\",  capsize=8,  ecolor=\"k\")\n",
        "plt.bar([0,1],[int(n_2b*ci_400m[1]/100),int(n_2b*ci_2b[0])/100],fill=False,color='#330000',edgecolor='#330000')\n",
        "plt.xticks([0,1],[r'$N_{2B} \\times CI_{upper,400M}$',r'$N_{2B} \\times CI_{lower,2B}$'])\n",
        "# plt.xticks([0,1],['400M','2B-en'])\n",
        "plt.semilogy()\n",
        "\n",
        "plt.grid('on')\n",
        "plt.ylabel(r'$N_{2B} \\times CI_{upper,400M} | CI_{lower,2B}$')\n",
        "point1 = [0, int(n_2b*ci_400m[1]/100)]\n",
        "point2 = [1, int(n_2b*ci_2b[0]/100)]\n",
        "x_values = [point1[0], point2[0]]\n",
        "y_values = [point1[1], point2[1]]\n",
        "plt.plot(x_values, y_values, 'rd', linestyle=\"--\")\n",
        "plt.text(0.5, point1[1]+(point2[1]-point1[1])/2, rf\"$N_{{\\Delta}}$={n_diff} images!\")\n",
        "plt.title('(b) \"Excess-images\" estimate\\n for LAION2B-en')\n",
        "plt.tight_layout()\n",
        "plt.savefig('n_excess.pdf',bbox_inches='tight')\n",
        "plt.savefig('n_excess.png')\n",
        "\n",
        "# plt.subplot(122)\n",
        "# plt.errorbar([0,1],[u_400m,u_2b],[np.diff(ci_400m)[0],np.diff(ci_2b)[0]],capsize=3)\n",
        "# plt.xticks([0,1],['400M','2B-en'])"
      ],
      "metadata": {
        "colab": {
          "base_uri": "https://localhost:8080/",
          "height": 402
        },
        "id": "-71vGbkNcILI",
        "outputId": "30475273-1189-4397-cd1d-9064413ac3e4"
      },
      "execution_count": null,
      "outputs": [
        {
          "output_type": "display_data",
          "data": {
            "text/plain": [
              "<Figure size 1000x400 with 2 Axes>"
            ],
            "image/png": "[encoded data removed]"
          },
          "metadata": {
            "image/png": {
              "width": 989,
              "height": 385
            }
          }
        }
      ]
    },
    {
      "cell_type": "markdown",
      "source": [
        "## $4(c): Intra-dataset filewise comparisons (Welch separate variances T-testframework)\n",
        "\n",
        "Given that the two datasets, LAION-400M and LAION-2B-En, are split into 32 (and 128)\n",
        "purportedly uniformly sampled shards, respectively, we now examine the validity of the filelevel QFR metrics to the global dataset-level metrics. We use the 0.1 million × 3 sized\n",
        "file-level text-quality score matrices obtained from the Pysentimiento model and compute\n",
        "what fraction of these rows are greater than Pthreshold of 0.5 for all the 3 columns. This yields\n",
        "file-level QFRs (in%) for each of the two datasets with the 3 columns mapping to hateful\n",
        "speech, targeted speech and aggressive speech."
      ],
      "metadata": {
        "id": "dLmVmMg-nh8_"
      }
    },
    {
      "cell_type": "code",
      "source": [
        "!pip install --quiet pingouin\n",
        "# # https://ethanweed.github.io/pythonbook/05.02-ttest.html#the-independent-samples-t-test-welch-test"
      ],
      "metadata": {
        "id": "YLMFCjhRFxDG"
      },
      "execution_count": null,
      "outputs": []
    },
    {
      "cell_type": "code",
      "source": [
        "from pingouin import ttest\n",
        "p_400m_max=np.max(p_400m,axis=1)\n",
        "p_2b_max=np.max(p_2b,axis=1)\n",
        "describe(p_400m_max),describe(p_2b_max)\n",
        "ttest(p_2b_max,p_400m_max, correction = False)"
      ],
      "metadata": {
        "id": "uRKobvs8FkgH",
        "colab": {
          "base_uri": "https://localhost:8080/",
          "height": 81
        },
        "outputId": "7f6c9b10-9bd9-4f7c-d7e5-0fb77c900a10"
      },
      "execution_count": null,
      "outputs": [
        {
          "output_type": "execute_result",
          "data": {
            "text/plain": [
              "                T       dof alternative         p-val       CI95%   cohen-d  \\\n",
              "T-test  16.530828  15999998   two-sided  2.203586e-61  [0.0, 0.0]  0.010332   \n",
              "\n",
              "             BF10  power  \n",
              "T-test  1.539e+56    1.0  "
            ],
            "text/html": [
              "\n",
              "  <div id=\"df-297b3381-edf4-4226-aad3-a7fb3c783600\">\n",
              "    <div class=\"colab-df-container\">\n",
              "      <div>\n",
              "<style scoped>\n",
              "    .dataframe tbody tr th:only-of-type {\n",
              "        vertical-align: middle;\n",
              "    }\n",
              "\n",
              "    .dataframe tbody tr th {\n",
              "        vertical-align: top;\n",
              "    }\n",
              "\n",
              "    .dataframe thead th {\n",
              "        text-align: right;\n",
              "    }\n",
              "</style>\n",
              "<table border=\"1\" class=\"dataframe\">\n",
              "  <thead>\n",
              "    <tr style=\"text-align: right;\">\n",
              "      <th></th>\n",
              "      <th>T</th>\n",
              "      <th>dof</th>\n",
              "      <th>alternative</th>\n",
              "      <th>p-val</th>\n",
              "      <th>CI95%</th>\n",
              "      <th>cohen-d</th>\n",
              "      <th>BF10</th>\n",
              "      <th>power</th>\n",
              "    </tr>\n",
              "  </thead>\n",
              "  <tbody>\n",
              "    <tr>\n",
              "      <th>T-test</th>\n",
              "      <td>16.530828</td>\n",
              "      <td>15999998</td>\n",
              "      <td>two-sided</td>\n",
              "      <td>2.203586e-61</td>\n",
              "      <td>[0.0, 0.0]</td>\n",
              "      <td>0.010332</td>\n",
              "      <td>1.539e+56</td>\n",
              "      <td>1.0</td>\n",
              "    </tr>\n",
              "  </tbody>\n",
              "</table>\n",
              "</div>\n",
              "      <button class=\"colab-df-convert\" onclick=\"convertToInteractive('df-297b3381-edf4-4226-aad3-a7fb3c783600')\"\n",
              "              title=\"Convert this dataframe to an interactive table.\"\n",
              "              style=\"display:none;\">\n",
              "        \n",
              "  <svg xmlns=\"http://www.w3.org/2000/svg\" height=\"24px\"viewBox=\"0 0 24 24\"\n",
              "       width=\"24px\">\n",
              "    <path d=\"M0 0h24v24H0V0z\" fill=\"none\"/>\n",
              "    <path d=\"M18.56 5.44l.94 2.06.94-2.06 2.06-.94-2.06-.94-.94-2.06-.94 2.06-2.06.94zm-11 1L8.5 8.5l.94-2.06 2.06-.94-2.06-.94L8.5 2.5l-.94 2.06-2.06.94zm10 10l.94 2.06.94-2.06 2.06-.94-2.06-.94-.94-2.06-.94 2.06-2.06.94z\"/><path d=\"M17.41 7.96l-1.37-1.37c-.4-.4-.92-.59-1.43-.59-.52 0-1.04.2-1.43.59L10.3 9.45l-7.72 7.72c-.78.78-.78 2.05 0 2.83L4 21.41c.39.39.9.59 1.41.59.51 0 1.02-.2 1.41-.59l7.78-7.78 2.81-2.81c.8-.78.8-2.07 0-2.86zM5.41 20L4 18.59l7.72-7.72 1.47 1.35L5.41 20z\"/>\n",
              "  </svg>\n",
              "      </button>\n",
              "      \n",
              "  <style>\n",
              "    .colab-df-container {\n",
              "      display:flex;\n",
              "      flex-wrap:wrap;\n",
              "      gap: 12px;\n",
              "    }\n",
              "\n",
              "    .colab-df-convert {\n",
              "      background-color: #E8F0FE;\n",
              "      border: none;\n",
              "      border-radius: 50%;\n",
              "      cursor: pointer;\n",
              "      display: none;\n",
              "      fill: #1967D2;\n",
              "      height: 32px;\n",
              "      padding: 0 0 0 0;\n",
              "      width: 32px;\n",
              "    }\n",
              "\n",
              "    .colab-df-convert:hover {\n",
              "      background-color: #E2EBFA;\n",
              "      box-shadow: 0px 1px 2px rgba(60, 64, 67, 0.3), 0px 1px 3px 1px rgba(60, 64, 67, 0.15);\n",
              "      fill: #174EA6;\n",
              "    }\n",
              "\n",
              "    [theme=dark] .colab-df-convert {\n",
              "      background-color: #3B4455;\n",
              "      fill: #D2E3FC;\n",
              "    }\n",
              "\n",
              "    [theme=dark] .colab-df-convert:hover {\n",
              "      background-color: #434B5C;\n",
              "      box-shadow: 0px 1px 3px 1px rgba(0, 0, 0, 0.15);\n",
              "      filter: drop-shadow(0px 1px 2px rgba(0, 0, 0, 0.3));\n",
              "      fill: #FFFFFF;\n",
              "    }\n",
              "  </style>\n",
              "\n",
              "      <script>\n",
              "        const buttonEl =\n",
              "          document.querySelector('#df-297b3381-edf4-4226-aad3-a7fb3c783600 button.colab-df-convert');\n",
              "        buttonEl.style.display =\n",
              "          google.colab.kernel.accessAllowed ? 'block' : 'none';\n",
              "\n",
              "        async function convertToInteractive(key) {\n",
              "          const element = document.querySelector('#df-297b3381-edf4-4226-aad3-a7fb3c783600');\n",
              "          const dataTable =\n",
              "            await google.colab.kernel.invokeFunction('convertToInteractive',\n",
              "                                                     [key], {});\n",
              "          if (!dataTable) return;\n",
              "\n",
              "          const docLinkHtml = 'Like what you see? Visit the ' +\n",
              "            '<a target=\"_blank\" href=https://colab.research.google.com/notebooks/data_table.ipynb>data table notebook</a>'\n",
              "            + ' to learn more about interactive tables.';\n",
              "          element.innerHTML = '';\n",
              "          dataTable['output_type'] = 'display_data';\n",
              "          await google.colab.output.renderOutput(dataTable, element);\n",
              "          const docLink = document.createElement('div');\n",
              "          docLink.innerHTML = docLinkHtml;\n",
              "          element.appendChild(docLink);\n",
              "        }\n",
              "      </script>\n",
              "    </div>\n",
              "  </div>\n",
              "  "
            ]
          },
          "metadata": {},
          "execution_count": 27
        }
      ]
    },
    {
      "cell_type": "markdown",
      "source": [
        " Hand-estimate Cohen's-d to verify the pingouin generated one (~0.0103)"
      ],
      "metadata": {
        "id": "I8j_C4b8pZa5"
      }
    },
    {
      "cell_type": "code",
      "source": [
        "n1=len(p_2b_max)\n",
        "n2=len(p_400m_max)\n",
        "\n",
        "u1=np.mean(p_2b_max)\n",
        "u2=np.mean(p_400m_max)\n",
        "\n",
        "s1=np.var(p_2b_max)\n",
        "s2=np.var(p_400m_max)\n",
        "\n",
        "s = np.sqrt(((n1) * s1 + (n2) * s2) / (n1 + n2 - 2))\n",
        "\n",
        "# calculate Cohen's d\n",
        "d = (u1 - u2) / s\n",
        "d"
      ],
      "metadata": {
        "id": "EgspFGH9GaMH",
        "colab": {
          "base_uri": "https://localhost:8080/"
        },
        "outputId": "5389e54e-3c2e-4817-f5a7-7eebaa38b1d4"
      },
      "execution_count": null,
      "outputs": [
        {
          "output_type": "execute_result",
          "data": {
            "text/plain": [
              "0.010331767421212263"
            ]
          },
          "metadata": {},
          "execution_count": 28
        }
      ]
    },
    {
      "cell_type": "code",
      "source": [
        "p_05_400m=(p_400m>0.5)\n",
        "res = np.logical_or.reduce(p_05_400m, 1).astype(np.int32)\n",
        "res.shape,res.mean()"
      ],
      "metadata": {
        "id": "LpkdW_s8C44J",
        "colab": {
          "base_uri": "https://localhost:8080/"
        },
        "outputId": "2770643e-2335-464e-f79d-c3a1e5fe3c26"
      },
      "execution_count": null,
      "outputs": [
        {
          "output_type": "execute_result",
          "data": {
            "text/plain": [
              "((3200000,), 0.0038590625)"
            ]
          },
          "metadata": {},
          "execution_count": 29
        }
      ]
    },
    {
      "cell_type": "markdown",
      "source": [
        "File-level analysis: \n",
        "\n",
        "First let us load the file-level meta-datasets"
      ],
      "metadata": {
        "id": "p5LS_O1Hp-z3"
      }
    },
    {
      "cell_type": "code",
      "source": [
        "prob_mat_2b=np.load('./hate_detect_2B-en/prob_mat_all.npy')\n",
        "prob_mat_400m=np.load(f'./hate_detect_400m/prob_mat_all.npy')\n",
        "prob_mat_400m.shape,prob_mat_2b.shape,describe(prob_mat_400m[:,0]),describe(prob_mat_2b[:,0])"
      ],
      "metadata": {
        "colab": {
          "base_uri": "https://localhost:8080/"
        },
        "id": "PjV_n4YvJHrn",
        "outputId": "1751c52a-eabc-4b52-d14c-a6a991a90211"
      },
      "execution_count": null,
      "outputs": [
        {
          "output_type": "execute_result",
          "data": {
            "text/plain": [
              "((32, 3),\n",
              " (128, 3),\n",
              " DescribeResult(nobs=32, minmax=(0.349, 0.43099999999999994), mean=0.38540625, variance=0.00040147479838709686, skewness=0.30578132513735945, kurtosis=-0.5462518499155964),\n",
              " DescribeResult(nobs=128, minmax=(0.4, 0.483), mean=0.441171875, variance=0.00033006471456692893, skewness=0.16517689236774552, kurtosis=-0.44234974682828687))"
            ]
          },
          "metadata": {},
          "execution_count": 30
        }
      ]
    },
    {
      "cell_type": "markdown",
      "source": [
        "Now, let us see what percentage of the files fall within 2 SD of the population mean"
      ],
      "metadata": {
        "id": "XcEOceI6qGvt"
      }
    },
    {
      "cell_type": "code",
      "source": [
        "coverage_400m=[]\n",
        "for i in range(3):\n",
        "  u_i=prob_mat_400m[:,i].mean()\n",
        "  s_i=prob_mat_400m[:,i].std()\n",
        "  coverage_400m.append(np.mean(((u_i-2*s_i) < prob_mat_400m[:,i]) & (prob_mat_400m[:,i]<(u_i+2*s_i))))\n",
        "\n",
        "coverage_2b=[]\n",
        "for i in range(3):\n",
        "  u_i=prob_mat_2b[:,i].mean()\n",
        "  s_i=prob_mat_2b[:,i].std()\n",
        "  coverage_2b.append(np.mean(((u_i-2*s_i) < prob_mat_2b[:,i]) & (prob_mat_2b[:,i]<(u_i+2*s_i))))\n",
        "\n",
        "coverage_400m,coverage_2b"
      ],
      "metadata": {
        "colab": {
          "base_uri": "https://localhost:8080/"
        },
        "id": "ysIarUPsqQi5",
        "outputId": "9cc90ce0-6ce1-4cb2-8337-6e7d91e32897"
      },
      "execution_count": null,
      "outputs": [
        {
          "output_type": "execute_result",
          "data": {
            "text/plain": [
              "([0.96875, 0.9375, 0.96875], [0.953125, 0.953125, 0.9375])"
            ]
          },
          "metadata": {},
          "execution_count": 31
        }
      ]
    },
    {
      "cell_type": "markdown",
      "source": [
        "Neat! Now, we perform a two-sample t-test while correcting for unequal variances (using the\n",
        "Welch separate variances T-test) and explicitly setting the alternative hypothesis set to be\n",
        "‘greater’ (with respect to the alternate hypothesis that the mean of the 2B-en QFRs is greater than the mean of 400M-QFRs)"
      ],
      "metadata": {
        "id": "IcKfjq2Kqkqy"
      }
    },
    {
      "cell_type": "code",
      "source": [
        "df_t0=ttest(prob_mat_2b[:,0],prob_mat_400m[:,0], correction = True,alternative='greater')\n",
        "df_t1=ttest(prob_mat_2b[:,1],prob_mat_400m[:,1], correction = True,alternative='greater')\n",
        "df_t2=ttest(prob_mat_2b[:,2],prob_mat_400m[:,2], correction = True,alternative='greater')\n",
        "\n",
        "df_t=pd.concat([df_t0,df_t1,df_t2],ignore_index=True)\n",
        "df_t.index=['hateful','targeted','aggressive']\n",
        "df_t"
      ],
      "metadata": {
        "colab": {
          "base_uri": "https://localhost:8080/",
          "height": 144
        },
        "id": "OjZGXpBjpJOZ",
        "outputId": "972bff4c-6bac-4cde-d733-48db604511b2"
      },
      "execution_count": null,
      "outputs": [
        {
          "output_type": "execute_result",
          "data": {
            "text/plain": [
              "                    T        dof alternative         p-val        CI95%  \\\n",
              "hateful     14.339134  44.592762     greater  1.299661e-18  [0.05, inf]   \n",
              "targeted    12.222288  60.561053     greater  2.693412e-18  [0.02, inf]   \n",
              "aggressive   4.629727  48.457177     greater  1.383498e-05   [0.0, inf]   \n",
              "\n",
              "             cohen-d       BF10     power  \n",
              "hateful     3.006351  1.594e+27  1.000000  \n",
              "targeted    2.058092  3.416e+21  1.000000  \n",
              "aggressive  0.903662   4293.568  0.998179  "
            ],
            "text/html": [
              "\n",
              "  <div id=\"df-fe79e2a5-d349-47f0-838a-5af7ab760f8d\">\n",
              "    <div class=\"colab-df-container\">\n",
              "      <div>\n",
              "<style scoped>\n",
              "    .dataframe tbody tr th:only-of-type {\n",
              "        vertical-align: middle;\n",
              "    }\n",
              "\n",
              "    .dataframe tbody tr th {\n",
              "        vertical-align: top;\n",
              "    }\n",
              "\n",
              "    .dataframe thead th {\n",
              "        text-align: right;\n",
              "    }\n",
              "</style>\n",
              "<table border=\"1\" class=\"dataframe\">\n",
              "  <thead>\n",
              "    <tr style=\"text-align: right;\">\n",
              "      <th></th>\n",
              "      <th>T</th>\n",
              "      <th>dof</th>\n",
              "      <th>alternative</th>\n",
              "      <th>p-val</th>\n",
              "      <th>CI95%</th>\n",
              "      <th>cohen-d</th>\n",
              "      <th>BF10</th>\n",
              "      <th>power</th>\n",
              "    </tr>\n",
              "  </thead>\n",
              "  <tbody>\n",
              "    <tr>\n",
              "      <th>hateful</th>\n",
              "      <td>14.339134</td>\n",
              "      <td>44.592762</td>\n",
              "      <td>greater</td>\n",
              "      <td>1.299661e-18</td>\n",
              "      <td>[0.05, inf]</td>\n",
              "      <td>3.006351</td>\n",
              "      <td>1.594e+27</td>\n",
              "      <td>1.000000</td>\n",
              "    </tr>\n",
              "    <tr>\n",
              "      <th>targeted</th>\n",
              "      <td>12.222288</td>\n",
              "      <td>60.561053</td>\n",
              "      <td>greater</td>\n",
              "      <td>2.693412e-18</td>\n",
              "      <td>[0.02, inf]</td>\n",
              "      <td>2.058092</td>\n",
              "      <td>3.416e+21</td>\n",
              "      <td>1.000000</td>\n",
              "    </tr>\n",
              "    <tr>\n",
              "      <th>aggressive</th>\n",
              "      <td>4.629727</td>\n",
              "      <td>48.457177</td>\n",
              "      <td>greater</td>\n",
              "      <td>1.383498e-05</td>\n",
              "      <td>[0.0, inf]</td>\n",
              "      <td>0.903662</td>\n",
              "      <td>4293.568</td>\n",
              "      <td>0.998179</td>\n",
              "    </tr>\n",
              "  </tbody>\n",
              "</table>\n",
              "</div>\n",
              "      <button class=\"colab-df-convert\" onclick=\"convertToInteractive('df-fe79e2a5-d349-47f0-838a-5af7ab760f8d')\"\n",
              "              title=\"Convert this dataframe to an interactive table.\"\n",
              "              style=\"display:none;\">\n",
              "        \n",
              "  <svg xmlns=\"http://www.w3.org/2000/svg\" height=\"24px\"viewBox=\"0 0 24 24\"\n",
              "       width=\"24px\">\n",
              "    <path d=\"M0 0h24v24H0V0z\" fill=\"none\"/>\n",
              "    <path d=\"M18.56 5.44l.94 2.06.94-2.06 2.06-.94-2.06-.94-.94-2.06-.94 2.06-2.06.94zm-11 1L8.5 8.5l.94-2.06 2.06-.94-2.06-.94L8.5 2.5l-.94 2.06-2.06.94zm10 10l.94 2.06.94-2.06 2.06-.94-2.06-.94-.94-2.06-.94 2.06-2.06.94z\"/><path d=\"M17.41 7.96l-1.37-1.37c-.4-.4-.92-.59-1.43-.59-.52 0-1.04.2-1.43.59L10.3 9.45l-7.72 7.72c-.78.78-.78 2.05 0 2.83L4 21.41c.39.39.9.59 1.41.59.51 0 1.02-.2 1.41-.59l7.78-7.78 2.81-2.81c.8-.78.8-2.07 0-2.86zM5.41 20L4 18.59l7.72-7.72 1.47 1.35L5.41 20z\"/>\n",
              "  </svg>\n",
              "      </button>\n",
              "      \n",
              "  <style>\n",
              "    .colab-df-container {\n",
              "      display:flex;\n",
              "      flex-wrap:wrap;\n",
              "      gap: 12px;\n",
              "    }\n",
              "\n",
              "    .colab-df-convert {\n",
              "      background-color: #E8F0FE;\n",
              "      border: none;\n",
              "      border-radius: 50%;\n",
              "      cursor: pointer;\n",
              "      display: none;\n",
              "      fill: #1967D2;\n",
              "      height: 32px;\n",
              "      padding: 0 0 0 0;\n",
              "      width: 32px;\n",
              "    }\n",
              "\n",
              "    .colab-df-convert:hover {\n",
              "      background-color: #E2EBFA;\n",
              "      box-shadow: 0px 1px 2px rgba(60, 64, 67, 0.3), 0px 1px 3px 1px rgba(60, 64, 67, 0.15);\n",
              "      fill: #174EA6;\n",
              "    }\n",
              "\n",
              "    [theme=dark] .colab-df-convert {\n",
              "      background-color: #3B4455;\n",
              "      fill: #D2E3FC;\n",
              "    }\n",
              "\n",
              "    [theme=dark] .colab-df-convert:hover {\n",
              "      background-color: #434B5C;\n",
              "      box-shadow: 0px 1px 3px 1px rgba(0, 0, 0, 0.15);\n",
              "      filter: drop-shadow(0px 1px 2px rgba(0, 0, 0, 0.3));\n",
              "      fill: #FFFFFF;\n",
              "    }\n",
              "  </style>\n",
              "\n",
              "      <script>\n",
              "        const buttonEl =\n",
              "          document.querySelector('#df-fe79e2a5-d349-47f0-838a-5af7ab760f8d button.colab-df-convert');\n",
              "        buttonEl.style.display =\n",
              "          google.colab.kernel.accessAllowed ? 'block' : 'none';\n",
              "\n",
              "        async function convertToInteractive(key) {\n",
              "          const element = document.querySelector('#df-fe79e2a5-d349-47f0-838a-5af7ab760f8d');\n",
              "          const dataTable =\n",
              "            await google.colab.kernel.invokeFunction('convertToInteractive',\n",
              "                                                     [key], {});\n",
              "          if (!dataTable) return;\n",
              "\n",
              "          const docLinkHtml = 'Like what you see? Visit the ' +\n",
              "            '<a target=\"_blank\" href=https://colab.research.google.com/notebooks/data_table.ipynb>data table notebook</a>'\n",
              "            + ' to learn more about interactive tables.';\n",
              "          element.innerHTML = '';\n",
              "          dataTable['output_type'] = 'display_data';\n",
              "          await google.colab.output.renderOutput(dataTable, element);\n",
              "          const docLink = document.createElement('div');\n",
              "          docLink.innerHTML = docLinkHtml;\n",
              "          element.appendChild(docLink);\n",
              "        }\n",
              "      </script>\n",
              "    </div>\n",
              "  </div>\n",
              "  "
            ]
          },
          "metadata": {},
          "execution_count": 32
        }
      ]
    },
    {
      "cell_type": "markdown",
      "source": [
        "OK. So, this needs to be prettied up for the tables that appear in the paper ..."
      ],
      "metadata": {
        "id": "jMAgQIv0qupJ"
      }
    },
    {
      "cell_type": "code",
      "source": [
        "pd.options.display.precision==2\n",
        "df_t.iloc[:,[0,1,5,6]]=np.round(df_t.iloc[:,[0,1,5,6]],2)\n",
        "print(df_t.iloc[:,[0,1,3,5,6]].to_latex())"
      ],
      "metadata": {
        "colab": {
          "base_uri": "https://localhost:8080/"
        },
        "id": "bOQdwcvw4pGE",
        "outputId": "bf11ee69-1ccd-4217-e323-e366b6d167b1"
      },
      "execution_count": null,
      "outputs": [
        {
          "output_type": "stream",
          "name": "stdout",
          "text": [
            "\\begin{tabular}{lrrrrl}\n",
            "\\toprule\n",
            "{} &      T &    dof &         p-val &  cohen-d &       BF10 \\\\\n",
            "\\midrule\n",
            "hateful    &  14.34 &  44.59 &  1.299661e-18 &     3.01 &  1.594e+27 \\\\\n",
            "targeted   &  12.22 &  60.56 &  2.693412e-18 &     2.06 &  3.416e+21 \\\\\n",
            "aggressive &   4.63 &  48.46 &  1.383498e-05 &     0.90 &   4293.568 \\\\\n",
            "\\bottomrule\n",
            "\\end{tabular}\n",
            "\n"
          ]
        },
        {
          "output_type": "stream",
          "name": "stderr",
          "text": [
            "<ipython-input-33-cd5b4c3920df>:3: FutureWarning: In future versions `DataFrame.to_latex` is expected to utilise the base implementation of `Styler.to_latex` for formatting and rendering. The arguments signature may therefore change. It is recommended instead to use `DataFrame.style.to_latex` which also contains additional functionality.\n",
            "  print(df_t.iloc[:,[0,1,3,5,6]].to_latex())\n"
          ]
        }
      ]
    },
    {
      "cell_type": "code",
      "source": [
        "print(df_t.to_latex())"
      ],
      "metadata": {
        "colab": {
          "base_uri": "https://localhost:8080/"
        },
        "id": "Ecn-JCM51GXK",
        "outputId": "32533dd5-b952-4ee9-d27f-16355706998f"
      },
      "execution_count": null,
      "outputs": [
        {
          "output_type": "stream",
          "name": "stdout",
          "text": [
            "\\begin{tabular}{lrrlrlrlr}\n",
            "\\toprule\n",
            "{} &      T &    dof & alternative &         p-val &        CI95\\% &  cohen-d &       BF10 &     power \\\\\n",
            "\\midrule\n",
            "hateful    &  14.34 &  44.59 &     greater &  1.299661e-18 &  [0.05, inf] &     3.01 &  1.594e+27 &  1.000000 \\\\\n",
            "targeted   &  12.22 &  60.56 &     greater &  2.693412e-18 &  [0.02, inf] &     2.06 &  3.416e+21 &  1.000000 \\\\\n",
            "aggressive &   4.63 &  48.46 &     greater &  1.383498e-05 &   [0.0, inf] &     0.90 &   4293.568 &  0.998179 \\\\\n",
            "\\bottomrule\n",
            "\\end{tabular}\n",
            "\n"
          ]
        },
        {
          "output_type": "stream",
          "name": "stderr",
          "text": [
            "<ipython-input-34-a389fe1a1304>:1: FutureWarning: In future versions `DataFrame.to_latex` is expected to utilise the base implementation of `Styler.to_latex` for formatting and rendering. The arguments signature may therefore change. It is recommended instead to use `DataFrame.style.to_latex` which also contains additional functionality.\n",
            "  print(df_t.to_latex())\n"
          ]
        }
      ]
    },
    {
      "cell_type": "markdown",
      "source": [
        "### Final step:  \n",
        "\n",
        "Generating Fused swarm-box-violinplot that captures the file-wise QFR metrics for all the 160\n",
        "(=32+128) parquet files from LAION400M and LAION-2B-En"
      ],
      "metadata": {
        "id": "jATAyT7vqZMG"
      }
    },
    {
      "cell_type": "code",
      "source": [
        "df_files_400m=pd.DataFrame(data=np.ravel(prob_mat_400m),columns=['p_sentimento'])\n",
        "df_files_400m['type']=['P_hateful', 'P_targeted', 'P_aggressive']*32\n",
        "df_files_400m['dataset']='400M'\n",
        "df_files_400m"
      ],
      "metadata": {
        "colab": {
          "base_uri": "https://localhost:8080/",
          "height": 424
        },
        "id": "WFAaGzwjJeXi",
        "outputId": "0714503d-4f53-4e9d-e263-5991ce208a56"
      },
      "execution_count": null,
      "outputs": [
        {
          "output_type": "execute_result",
          "data": {
            "text/plain": [
              "    p_sentimento          type dataset\n",
              "0          0.349     P_hateful    400M\n",
              "1          0.078    P_targeted    400M\n",
              "2          0.013  P_aggressive    400M\n",
              "3          0.375     P_hateful    400M\n",
              "4          0.098    P_targeted    400M\n",
              "..           ...           ...     ...\n",
              "91         0.078    P_targeted    400M\n",
              "92         0.018  P_aggressive    400M\n",
              "93         0.367     P_hateful    400M\n",
              "94         0.093    P_targeted    400M\n",
              "95         0.016  P_aggressive    400M\n",
              "\n",
              "[96 rows x 3 columns]"
            ],
            "text/html": [
              "\n",
              "  <div id=\"df-d8de3420-221d-4289-8e49-d593c25e78bb\">\n",
              "    <div class=\"colab-df-container\">\n",
              "      <div>\n",
              "<style scoped>\n",
              "    .dataframe tbody tr th:only-of-type {\n",
              "        vertical-align: middle;\n",
              "    }\n",
              "\n",
              "    .dataframe tbody tr th {\n",
              "        vertical-align: top;\n",
              "    }\n",
              "\n",
              "    .dataframe thead th {\n",
              "        text-align: right;\n",
              "    }\n",
              "</style>\n",
              "<table border=\"1\" class=\"dataframe\">\n",
              "  <thead>\n",
              "    <tr style=\"text-align: right;\">\n",
              "      <th></th>\n",
              "      <th>p_sentimento</th>\n",
              "      <th>type</th>\n",
              "      <th>dataset</th>\n",
              "    </tr>\n",
              "  </thead>\n",
              "  <tbody>\n",
              "    <tr>\n",
              "      <th>0</th>\n",
              "      <td>0.349</td>\n",
              "      <td>P_hateful</td>\n",
              "      <td>400M</td>\n",
              "    </tr>\n",
              "    <tr>\n",
              "      <th>1</th>\n",
              "      <td>0.078</td>\n",
              "      <td>P_targeted</td>\n",
              "      <td>400M</td>\n",
              "    </tr>\n",
              "    <tr>\n",
              "      <th>2</th>\n",
              "      <td>0.013</td>\n",
              "      <td>P_aggressive</td>\n",
              "      <td>400M</td>\n",
              "    </tr>\n",
              "    <tr>\n",
              "      <th>3</th>\n",
              "      <td>0.375</td>\n",
              "      <td>P_hateful</td>\n",
              "      <td>400M</td>\n",
              "    </tr>\n",
              "    <tr>\n",
              "      <th>4</th>\n",
              "      <td>0.098</td>\n",
              "      <td>P_targeted</td>\n",
              "      <td>400M</td>\n",
              "    </tr>\n",
              "    <tr>\n",
              "      <th>...</th>\n",
              "      <td>...</td>\n",
              "      <td>...</td>\n",
              "      <td>...</td>\n",
              "    </tr>\n",
              "    <tr>\n",
              "      <th>91</th>\n",
              "      <td>0.078</td>\n",
              "      <td>P_targeted</td>\n",
              "      <td>400M</td>\n",
              "    </tr>\n",
              "    <tr>\n",
              "      <th>92</th>\n",
              "      <td>0.018</td>\n",
              "      <td>P_aggressive</td>\n",
              "      <td>400M</td>\n",
              "    </tr>\n",
              "    <tr>\n",
              "      <th>93</th>\n",
              "      <td>0.367</td>\n",
              "      <td>P_hateful</td>\n",
              "      <td>400M</td>\n",
              "    </tr>\n",
              "    <tr>\n",
              "      <th>94</th>\n",
              "      <td>0.093</td>\n",
              "      <td>P_targeted</td>\n",
              "      <td>400M</td>\n",
              "    </tr>\n",
              "    <tr>\n",
              "      <th>95</th>\n",
              "      <td>0.016</td>\n",
              "      <td>P_aggressive</td>\n",
              "      <td>400M</td>\n",
              "    </tr>\n",
              "  </tbody>\n",
              "</table>\n",
              "<p>96 rows × 3 columns</p>\n",
              "</div>\n",
              "      <button class=\"colab-df-convert\" onclick=\"convertToInteractive('df-d8de3420-221d-4289-8e49-d593c25e78bb')\"\n",
              "              title=\"Convert this dataframe to an interactive table.\"\n",
              "              style=\"display:none;\">\n",
              "        \n",
              "  <svg xmlns=\"http://www.w3.org/2000/svg\" height=\"24px\"viewBox=\"0 0 24 24\"\n",
              "       width=\"24px\">\n",
              "    <path d=\"M0 0h24v24H0V0z\" fill=\"none\"/>\n",
              "    <path d=\"M18.56 5.44l.94 2.06.94-2.06 2.06-.94-2.06-.94-.94-2.06-.94 2.06-2.06.94zm-11 1L8.5 8.5l.94-2.06 2.06-.94-2.06-.94L8.5 2.5l-.94 2.06-2.06.94zm10 10l.94 2.06.94-2.06 2.06-.94-2.06-.94-.94-2.06-.94 2.06-2.06.94z\"/><path d=\"M17.41 7.96l-1.37-1.37c-.4-.4-.92-.59-1.43-.59-.52 0-1.04.2-1.43.59L10.3 9.45l-7.72 7.72c-.78.78-.78 2.05 0 2.83L4 21.41c.39.39.9.59 1.41.59.51 0 1.02-.2 1.41-.59l7.78-7.78 2.81-2.81c.8-.78.8-2.07 0-2.86zM5.41 20L4 18.59l7.72-7.72 1.47 1.35L5.41 20z\"/>\n",
              "  </svg>\n",
              "      </button>\n",
              "      \n",
              "  <style>\n",
              "    .colab-df-container {\n",
              "      display:flex;\n",
              "      flex-wrap:wrap;\n",
              "      gap: 12px;\n",
              "    }\n",
              "\n",
              "    .colab-df-convert {\n",
              "      background-color: #E8F0FE;\n",
              "      border: none;\n",
              "      border-radius: 50%;\n",
              "      cursor: pointer;\n",
              "      display: none;\n",
              "      fill: #1967D2;\n",
              "      height: 32px;\n",
              "      padding: 0 0 0 0;\n",
              "      width: 32px;\n",
              "    }\n",
              "\n",
              "    .colab-df-convert:hover {\n",
              "      background-color: #E2EBFA;\n",
              "      box-shadow: 0px 1px 2px rgba(60, 64, 67, 0.3), 0px 1px 3px 1px rgba(60, 64, 67, 0.15);\n",
              "      fill: #174EA6;\n",
              "    }\n",
              "\n",
              "    [theme=dark] .colab-df-convert {\n",
              "      background-color: #3B4455;\n",
              "      fill: #D2E3FC;\n",
              "    }\n",
              "\n",
              "    [theme=dark] .colab-df-convert:hover {\n",
              "      background-color: #434B5C;\n",
              "      box-shadow: 0px 1px 3px 1px rgba(0, 0, 0, 0.15);\n",
              "      filter: drop-shadow(0px 1px 2px rgba(0, 0, 0, 0.3));\n",
              "      fill: #FFFFFF;\n",
              "    }\n",
              "  </style>\n",
              "\n",
              "      <script>\n",
              "        const buttonEl =\n",
              "          document.querySelector('#df-d8de3420-221d-4289-8e49-d593c25e78bb button.colab-df-convert');\n",
              "        buttonEl.style.display =\n",
              "          google.colab.kernel.accessAllowed ? 'block' : 'none';\n",
              "\n",
              "        async function convertToInteractive(key) {\n",
              "          const element = document.querySelector('#df-d8de3420-221d-4289-8e49-d593c25e78bb');\n",
              "          const dataTable =\n",
              "            await google.colab.kernel.invokeFunction('convertToInteractive',\n",
              "                                                     [key], {});\n",
              "          if (!dataTable) return;\n",
              "\n",
              "          const docLinkHtml = 'Like what you see? Visit the ' +\n",
              "            '<a target=\"_blank\" href=https://colab.research.google.com/notebooks/data_table.ipynb>data table notebook</a>'\n",
              "            + ' to learn more about interactive tables.';\n",
              "          element.innerHTML = '';\n",
              "          dataTable['output_type'] = 'display_data';\n",
              "          await google.colab.output.renderOutput(dataTable, element);\n",
              "          const docLink = document.createElement('div');\n",
              "          docLink.innerHTML = docLinkHtml;\n",
              "          element.appendChild(docLink);\n",
              "        }\n",
              "      </script>\n",
              "    </div>\n",
              "  </div>\n",
              "  "
            ]
          },
          "metadata": {},
          "execution_count": 35
        }
      ]
    },
    {
      "cell_type": "code",
      "source": [
        "df_files_2b=pd.DataFrame(data=np.ravel(prob_mat_2b),columns=['p_sentimento'])\n",
        "df_files_2b['type']=['P_hateful', 'P_targeted', 'P_aggressive']*128\n",
        "df_files_2b['dataset']='2B-En'\n",
        "df_files_2b"
      ],
      "metadata": {
        "colab": {
          "base_uri": "https://localhost:8080/",
          "height": 424
        },
        "id": "ztXO7d0DPnLM",
        "outputId": "ad9cacdf-bb51-40b3-ef49-2f42494f06f6"
      },
      "execution_count": null,
      "outputs": [
        {
          "output_type": "execute_result",
          "data": {
            "text/plain": [
              "     p_sentimento          type dataset\n",
              "0           0.467     P_hateful   2B-En\n",
              "1           0.093    P_targeted   2B-En\n",
              "2           0.013  P_aggressive   2B-En\n",
              "3           0.422     P_hateful   2B-En\n",
              "4           0.099    P_targeted   2B-En\n",
              "..            ...           ...     ...\n",
              "379         0.098    P_targeted   2B-En\n",
              "380         0.018  P_aggressive   2B-En\n",
              "381         0.445     P_hateful   2B-En\n",
              "382         0.100    P_targeted   2B-En\n",
              "383         0.021  P_aggressive   2B-En\n",
              "\n",
              "[384 rows x 3 columns]"
            ],
            "text/html": [
              "\n",
              "  <div id=\"df-dccd30de-f005-4ca8-bad5-d9e74fb2e608\">\n",
              "    <div class=\"colab-df-container\">\n",
              "      <div>\n",
              "<style scoped>\n",
              "    .dataframe tbody tr th:only-of-type {\n",
              "        vertical-align: middle;\n",
              "    }\n",
              "\n",
              "    .dataframe tbody tr th {\n",
              "        vertical-align: top;\n",
              "    }\n",
              "\n",
              "    .dataframe thead th {\n",
              "        text-align: right;\n",
              "    }\n",
              "</style>\n",
              "<table border=\"1\" class=\"dataframe\">\n",
              "  <thead>\n",
              "    <tr style=\"text-align: right;\">\n",
              "      <th></th>\n",
              "      <th>p_sentimento</th>\n",
              "      <th>type</th>\n",
              "      <th>dataset</th>\n",
              "    </tr>\n",
              "  </thead>\n",
              "  <tbody>\n",
              "    <tr>\n",
              "      <th>0</th>\n",
              "      <td>0.467</td>\n",
              "      <td>P_hateful</td>\n",
              "      <td>2B-En</td>\n",
              "    </tr>\n",
              "    <tr>\n",
              "      <th>1</th>\n",
              "      <td>0.093</td>\n",
              "      <td>P_targeted</td>\n",
              "      <td>2B-En</td>\n",
              "    </tr>\n",
              "    <tr>\n",
              "      <th>2</th>\n",
              "      <td>0.013</td>\n",
              "      <td>P_aggressive</td>\n",
              "      <td>2B-En</td>\n",
              "    </tr>\n",
              "    <tr>\n",
              "      <th>3</th>\n",
              "      <td>0.422</td>\n",
              "      <td>P_hateful</td>\n",
              "      <td>2B-En</td>\n",
              "    </tr>\n",
              "    <tr>\n",
              "      <th>4</th>\n",
              "      <td>0.099</td>\n",
              "      <td>P_targeted</td>\n",
              "      <td>2B-En</td>\n",
              "    </tr>\n",
              "    <tr>\n",
              "      <th>...</th>\n",
              "      <td>...</td>\n",
              "      <td>...</td>\n",
              "      <td>...</td>\n",
              "    </tr>\n",
              "    <tr>\n",
              "      <th>379</th>\n",
              "      <td>0.098</td>\n",
              "      <td>P_targeted</td>\n",
              "      <td>2B-En</td>\n",
              "    </tr>\n",
              "    <tr>\n",
              "      <th>380</th>\n",
              "      <td>0.018</td>\n",
              "      <td>P_aggressive</td>\n",
              "      <td>2B-En</td>\n",
              "    </tr>\n",
              "    <tr>\n",
              "      <th>381</th>\n",
              "      <td>0.445</td>\n",
              "      <td>P_hateful</td>\n",
              "      <td>2B-En</td>\n",
              "    </tr>\n",
              "    <tr>\n",
              "      <th>382</th>\n",
              "      <td>0.100</td>\n",
              "      <td>P_targeted</td>\n",
              "      <td>2B-En</td>\n",
              "    </tr>\n",
              "    <tr>\n",
              "      <th>383</th>\n",
              "      <td>0.021</td>\n",
              "      <td>P_aggressive</td>\n",
              "      <td>2B-En</td>\n",
              "    </tr>\n",
              "  </tbody>\n",
              "</table>\n",
              "<p>384 rows × 3 columns</p>\n",
              "</div>\n",
              "      <button class=\"colab-df-convert\" onclick=\"convertToInteractive('df-dccd30de-f005-4ca8-bad5-d9e74fb2e608')\"\n",
              "              title=\"Convert this dataframe to an interactive table.\"\n",
              "              style=\"display:none;\">\n",
              "        \n",
              "  <svg xmlns=\"http://www.w3.org/2000/svg\" height=\"24px\"viewBox=\"0 0 24 24\"\n",
              "       width=\"24px\">\n",
              "    <path d=\"M0 0h24v24H0V0z\" fill=\"none\"/>\n",
              "    <path d=\"M18.56 5.44l.94 2.06.94-2.06 2.06-.94-2.06-.94-.94-2.06-.94 2.06-2.06.94zm-11 1L8.5 8.5l.94-2.06 2.06-.94-2.06-.94L8.5 2.5l-.94 2.06-2.06.94zm10 10l.94 2.06.94-2.06 2.06-.94-2.06-.94-.94-2.06-.94 2.06-2.06.94z\"/><path d=\"M17.41 7.96l-1.37-1.37c-.4-.4-.92-.59-1.43-.59-.52 0-1.04.2-1.43.59L10.3 9.45l-7.72 7.72c-.78.78-.78 2.05 0 2.83L4 21.41c.39.39.9.59 1.41.59.51 0 1.02-.2 1.41-.59l7.78-7.78 2.81-2.81c.8-.78.8-2.07 0-2.86zM5.41 20L4 18.59l7.72-7.72 1.47 1.35L5.41 20z\"/>\n",
              "  </svg>\n",
              "      </button>\n",
              "      \n",
              "  <style>\n",
              "    .colab-df-container {\n",
              "      display:flex;\n",
              "      flex-wrap:wrap;\n",
              "      gap: 12px;\n",
              "    }\n",
              "\n",
              "    .colab-df-convert {\n",
              "      background-color: #E8F0FE;\n",
              "      border: none;\n",
              "      border-radius: 50%;\n",
              "      cursor: pointer;\n",
              "      display: none;\n",
              "      fill: #1967D2;\n",
              "      height: 32px;\n",
              "      padding: 0 0 0 0;\n",
              "      width: 32px;\n",
              "    }\n",
              "\n",
              "    .colab-df-convert:hover {\n",
              "      background-color: #E2EBFA;\n",
              "      box-shadow: 0px 1px 2px rgba(60, 64, 67, 0.3), 0px 1px 3px 1px rgba(60, 64, 67, 0.15);\n",
              "      fill: #174EA6;\n",
              "    }\n",
              "\n",
              "    [theme=dark] .colab-df-convert {\n",
              "      background-color: #3B4455;\n",
              "      fill: #D2E3FC;\n",
              "    }\n",
              "\n",
              "    [theme=dark] .colab-df-convert:hover {\n",
              "      background-color: #434B5C;\n",
              "      box-shadow: 0px 1px 3px 1px rgba(0, 0, 0, 0.15);\n",
              "      filter: drop-shadow(0px 1px 2px rgba(0, 0, 0, 0.3));\n",
              "      fill: #FFFFFF;\n",
              "    }\n",
              "  </style>\n",
              "\n",
              "      <script>\n",
              "        const buttonEl =\n",
              "          document.querySelector('#df-dccd30de-f005-4ca8-bad5-d9e74fb2e608 button.colab-df-convert');\n",
              "        buttonEl.style.display =\n",
              "          google.colab.kernel.accessAllowed ? 'block' : 'none';\n",
              "\n",
              "        async function convertToInteractive(key) {\n",
              "          const element = document.querySelector('#df-dccd30de-f005-4ca8-bad5-d9e74fb2e608');\n",
              "          const dataTable =\n",
              "            await google.colab.kernel.invokeFunction('convertToInteractive',\n",
              "                                                     [key], {});\n",
              "          if (!dataTable) return;\n",
              "\n",
              "          const docLinkHtml = 'Like what you see? Visit the ' +\n",
              "            '<a target=\"_blank\" href=https://colab.research.google.com/notebooks/data_table.ipynb>data table notebook</a>'\n",
              "            + ' to learn more about interactive tables.';\n",
              "          element.innerHTML = '';\n",
              "          dataTable['output_type'] = 'display_data';\n",
              "          await google.colab.output.renderOutput(dataTable, element);\n",
              "          const docLink = document.createElement('div');\n",
              "          docLink.innerHTML = docLinkHtml;\n",
              "          element.appendChild(docLink);\n",
              "        }\n",
              "      </script>\n",
              "    </div>\n",
              "  </div>\n",
              "  "
            ]
          },
          "metadata": {},
          "execution_count": 36
        }
      ]
    },
    {
      "cell_type": "code",
      "source": [
        "df_comb=pd.concat([df_files_400m,df_files_2b],ignore_index=True)\n",
        "df_comb"
      ],
      "metadata": {
        "colab": {
          "base_uri": "https://localhost:8080/",
          "height": 424
        },
        "id": "VcwEmkypNIlb",
        "outputId": "0a9b4581-41bc-42bb-c21f-eeb016822263"
      },
      "execution_count": null,
      "outputs": [
        {
          "output_type": "execute_result",
          "data": {
            "text/plain": [
              "     p_sentimento          type dataset\n",
              "0           0.349     P_hateful    400M\n",
              "1           0.078    P_targeted    400M\n",
              "2           0.013  P_aggressive    400M\n",
              "3           0.375     P_hateful    400M\n",
              "4           0.098    P_targeted    400M\n",
              "..            ...           ...     ...\n",
              "475         0.098    P_targeted   2B-En\n",
              "476         0.018  P_aggressive   2B-En\n",
              "477         0.445     P_hateful   2B-En\n",
              "478         0.100    P_targeted   2B-En\n",
              "479         0.021  P_aggressive   2B-En\n",
              "\n",
              "[480 rows x 3 columns]"
            ],
            "text/html": [
              "\n",
              "  <div id=\"df-d8b4f8df-8b0c-4451-8f67-8fcbb99eb5d4\">\n",
              "    <div class=\"colab-df-container\">\n",
              "      <div>\n",
              "<style scoped>\n",
              "    .dataframe tbody tr th:only-of-type {\n",
              "        vertical-align: middle;\n",
              "    }\n",
              "\n",
              "    .dataframe tbody tr th {\n",
              "        vertical-align: top;\n",
              "    }\n",
              "\n",
              "    .dataframe thead th {\n",
              "        text-align: right;\n",
              "    }\n",
              "</style>\n",
              "<table border=\"1\" class=\"dataframe\">\n",
              "  <thead>\n",
              "    <tr style=\"text-align: right;\">\n",
              "      <th></th>\n",
              "      <th>p_sentimento</th>\n",
              "      <th>type</th>\n",
              "      <th>dataset</th>\n",
              "    </tr>\n",
              "  </thead>\n",
              "  <tbody>\n",
              "    <tr>\n",
              "      <th>0</th>\n",
              "      <td>0.349</td>\n",
              "      <td>P_hateful</td>\n",
              "      <td>400M</td>\n",
              "    </tr>\n",
              "    <tr>\n",
              "      <th>1</th>\n",
              "      <td>0.078</td>\n",
              "      <td>P_targeted</td>\n",
              "      <td>400M</td>\n",
              "    </tr>\n",
              "    <tr>\n",
              "      <th>2</th>\n",
              "      <td>0.013</td>\n",
              "      <td>P_aggressive</td>\n",
              "      <td>400M</td>\n",
              "    </tr>\n",
              "    <tr>\n",
              "      <th>3</th>\n",
              "      <td>0.375</td>\n",
              "      <td>P_hateful</td>\n",
              "      <td>400M</td>\n",
              "    </tr>\n",
              "    <tr>\n",
              "      <th>4</th>\n",
              "      <td>0.098</td>\n",
              "      <td>P_targeted</td>\n",
              "      <td>400M</td>\n",
              "    </tr>\n",
              "    <tr>\n",
              "      <th>...</th>\n",
              "      <td>...</td>\n",
              "      <td>...</td>\n",
              "      <td>...</td>\n",
              "    </tr>\n",
              "    <tr>\n",
              "      <th>475</th>\n",
              "      <td>0.098</td>\n",
              "      <td>P_targeted</td>\n",
              "      <td>2B-En</td>\n",
              "    </tr>\n",
              "    <tr>\n",
              "      <th>476</th>\n",
              "      <td>0.018</td>\n",
              "      <td>P_aggressive</td>\n",
              "      <td>2B-En</td>\n",
              "    </tr>\n",
              "    <tr>\n",
              "      <th>477</th>\n",
              "      <td>0.445</td>\n",
              "      <td>P_hateful</td>\n",
              "      <td>2B-En</td>\n",
              "    </tr>\n",
              "    <tr>\n",
              "      <th>478</th>\n",
              "      <td>0.100</td>\n",
              "      <td>P_targeted</td>\n",
              "      <td>2B-En</td>\n",
              "    </tr>\n",
              "    <tr>\n",
              "      <th>479</th>\n",
              "      <td>0.021</td>\n",
              "      <td>P_aggressive</td>\n",
              "      <td>2B-En</td>\n",
              "    </tr>\n",
              "  </tbody>\n",
              "</table>\n",
              "<p>480 rows × 3 columns</p>\n",
              "</div>\n",
              "      <button class=\"colab-df-convert\" onclick=\"convertToInteractive('df-d8b4f8df-8b0c-4451-8f67-8fcbb99eb5d4')\"\n",
              "              title=\"Convert this dataframe to an interactive table.\"\n",
              "              style=\"display:none;\">\n",
              "        \n",
              "  <svg xmlns=\"http://www.w3.org/2000/svg\" height=\"24px\"viewBox=\"0 0 24 24\"\n",
              "       width=\"24px\">\n",
              "    <path d=\"M0 0h24v24H0V0z\" fill=\"none\"/>\n",
              "    <path d=\"M18.56 5.44l.94 2.06.94-2.06 2.06-.94-2.06-.94-.94-2.06-.94 2.06-2.06.94zm-11 1L8.5 8.5l.94-2.06 2.06-.94-2.06-.94L8.5 2.5l-.94 2.06-2.06.94zm10 10l.94 2.06.94-2.06 2.06-.94-2.06-.94-.94-2.06-.94 2.06-2.06.94z\"/><path d=\"M17.41 7.96l-1.37-1.37c-.4-.4-.92-.59-1.43-.59-.52 0-1.04.2-1.43.59L10.3 9.45l-7.72 7.72c-.78.78-.78 2.05 0 2.83L4 21.41c.39.39.9.59 1.41.59.51 0 1.02-.2 1.41-.59l7.78-7.78 2.81-2.81c.8-.78.8-2.07 0-2.86zM5.41 20L4 18.59l7.72-7.72 1.47 1.35L5.41 20z\"/>\n",
              "  </svg>\n",
              "      </button>\n",
              "      \n",
              "  <style>\n",
              "    .colab-df-container {\n",
              "      display:flex;\n",
              "      flex-wrap:wrap;\n",
              "      gap: 12px;\n",
              "    }\n",
              "\n",
              "    .colab-df-convert {\n",
              "      background-color: #E8F0FE;\n",
              "      border: none;\n",
              "      border-radius: 50%;\n",
              "      cursor: pointer;\n",
              "      display: none;\n",
              "      fill: #1967D2;\n",
              "      height: 32px;\n",
              "      padding: 0 0 0 0;\n",
              "      width: 32px;\n",
              "    }\n",
              "\n",
              "    .colab-df-convert:hover {\n",
              "      background-color: #E2EBFA;\n",
              "      box-shadow: 0px 1px 2px rgba(60, 64, 67, 0.3), 0px 1px 3px 1px rgba(60, 64, 67, 0.15);\n",
              "      fill: #174EA6;\n",
              "    }\n",
              "\n",
              "    [theme=dark] .colab-df-convert {\n",
              "      background-color: #3B4455;\n",
              "      fill: #D2E3FC;\n",
              "    }\n",
              "\n",
              "    [theme=dark] .colab-df-convert:hover {\n",
              "      background-color: #434B5C;\n",
              "      box-shadow: 0px 1px 3px 1px rgba(0, 0, 0, 0.15);\n",
              "      filter: drop-shadow(0px 1px 2px rgba(0, 0, 0, 0.3));\n",
              "      fill: #FFFFFF;\n",
              "    }\n",
              "  </style>\n",
              "\n",
              "      <script>\n",
              "        const buttonEl =\n",
              "          document.querySelector('#df-d8b4f8df-8b0c-4451-8f67-8fcbb99eb5d4 button.colab-df-convert');\n",
              "        buttonEl.style.display =\n",
              "          google.colab.kernel.accessAllowed ? 'block' : 'none';\n",
              "\n",
              "        async function convertToInteractive(key) {\n",
              "          const element = document.querySelector('#df-d8b4f8df-8b0c-4451-8f67-8fcbb99eb5d4');\n",
              "          const dataTable =\n",
              "            await google.colab.kernel.invokeFunction('convertToInteractive',\n",
              "                                                     [key], {});\n",
              "          if (!dataTable) return;\n",
              "\n",
              "          const docLinkHtml = 'Like what you see? Visit the ' +\n",
              "            '<a target=\"_blank\" href=https://colab.research.google.com/notebooks/data_table.ipynb>data table notebook</a>'\n",
              "            + ' to learn more about interactive tables.';\n",
              "          element.innerHTML = '';\n",
              "          dataTable['output_type'] = 'display_data';\n",
              "          await google.colab.output.renderOutput(dataTable, element);\n",
              "          const docLink = document.createElement('div');\n",
              "          docLink.innerHTML = docLinkHtml;\n",
              "          element.appendChild(docLink);\n",
              "        }\n",
              "      </script>\n",
              "    </div>\n",
              "  </div>\n",
              "  "
            ]
          },
          "metadata": {},
          "execution_count": 37
        }
      ]
    },
    {
      "cell_type": "code",
      "source": [
        "import seaborn as sns\n",
        "sns.set_theme(style=\"whitegrid\")\n",
        "sns.set_context(\"talk\", font_scale=1.1)\n",
        "plt.figure(figsize=(9,7))\n",
        "g=sns.violinplot(x = \"type\",\n",
        "            y = \"p_sentimento\",\n",
        "            hue=\"dataset\",\n",
        "            inner='stick',\n",
        "            data = df_comb,legend='False',\n",
        "            palette=sns.color_palette(['blue', 'red']))\n",
        "\n",
        "# ax=sns.swarmplot(y='p_sentimento',hue='dataset',x='type',data=df_comb,zorder=0)\n",
        "g=sns.boxplot(x = \"type\",\n",
        "            y = \"p_sentimento\",\n",
        "            hue=\"dataset\",\n",
        "            data = df_comb,\n",
        "            palette=sns.color_palette(['blue', 'red'])\n",
        "            )\n",
        "# sns.swarmplot(x = \"type\",split=True,\n",
        "#             y = \"p_sentimento\",color=\"white\",\n",
        "#             hue=\"dataset\",\n",
        "#             data = df_comb, dodge=True,\n",
        "#             palette=sns.color_palette(['blue', 'red']))\n",
        "# sns.stripplot(x = \"type\",\n",
        "#             y = \"p_sentimento\",\n",
        "#             hue=\"dataset\",\n",
        "#             data = df_comb)\n",
        "# plt.ylabel(r'$\\bar{p}_{sentimiento}$ (filewise)')\n",
        "plt.ylabel(r'QFR (filewise)')\n",
        "plt.xlabel('')\n",
        "\n",
        "plt.legend(['400M','2B-En'])\n",
        "ax = plt.gca()\n",
        "leg = ax.get_legend()\n",
        "leg.legendHandles[0].set_color('blue')\n",
        "leg.legendHandles[1].set_color('red')\n",
        "plt.grid('on')\n",
        "\n",
        "# # Draw a nested violinplot and split the violins for easier comparison\n",
        "# sns.boxplot(data=df_comb, hue=\"dataset\", y=\"p_sentimento\", x=\"type\", showcaps=False,boxprops={'facecolor':'None'},\n",
        "#                  showfliers=False,whiskerprops={'linewidth':0}, ax=ax)#,split=True,bw=.2,scale=\"count\")\n",
        "# # sns.swarmplot(data=df_comb, hue=\"dataset\", y=\"p_sentimento\", x=\"type\")\n",
        "# plt.grid('on')\n",
        "# # plt.semilogy()\n",
        "# plt.xlabel('')\n",
        "# plt.ylabel(r'$p_{sentimento}$ in %')\n",
        "# sns.despine(left=True)\n",
        "# plt.savefig('filewise_violin.pdf',bboxes_inches='tight')\n",
        "# plt.savefig('filewise_violin.png',bboxes_inches='tight')"
      ],
      "metadata": {
        "colab": {
          "base_uri": "https://localhost:8080/",
          "height": 687
        },
        "id": "5cmgZSK8M90f",
        "outputId": "6acbcd07-4f05-45b4-b4d7-9c9c5b6b23f6"
      },
      "execution_count": null,
      "outputs": [
        {
          "output_type": "stream",
          "name": "stderr",
          "text": [
            "<ipython-input-38-f10a679793dc>:35: MatplotlibDeprecationWarning: The legendHandles attribute was deprecated in Matplotlib 3.7 and will be removed two minor releases later. Use legend_handles instead.\n",
            "  leg.legendHandles[0].set_color('blue')\n",
            "<ipython-input-38-f10a679793dc>:36: MatplotlibDeprecationWarning: The legendHandles attribute was deprecated in Matplotlib 3.7 and will be removed two minor releases later. Use legend_handles instead.\n",
            "  leg.legendHandles[1].set_color('red')\n"
          ]
        },
        {
          "output_type": "display_data",
          "data": {
            "text/plain": [
              "<Figure size 900x700 with 1 Axes>"
            ],
            "image/png": "[encoded data removed]"
          },
          "metadata": {
            "image/png": {
              "width": 807,
              "height": 601
            }
          }
        }
      ]
    }
  ]
}